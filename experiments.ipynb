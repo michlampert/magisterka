{
 "cells": [
  {
   "cell_type": "code",
   "execution_count": 2,
   "metadata": {},
   "outputs": [],
   "source": [
    "%load_ext autoreload"
   ]
  },
  {
   "cell_type": "code",
   "execution_count": 3,
   "metadata": {},
   "outputs": [],
   "source": [
    "import pandas as pd\n",
    "from tqdm import tqdm\n",
    "import torch\n",
    "import sys\n",
    "import os\n",
    "import time\n",
    "import datetime\n",
    "import sys"
   ]
  },
  {
   "cell_type": "code",
   "execution_count": 4,
   "metadata": {},
   "outputs": [],
   "source": [
    "import logging\n",
    "logger = logging.getLogger(\"molecules\")\n",
    "logger.setLevel(logging.INFO)\n",
    "\n",
    "fh = logging.FileHandler('logs.log')\n",
    "fh.setLevel(logging.INFO)\n",
    "logger.addHandler(fh)\n",
    "logger.addHandler(logging.StreamHandler(stream=sys.stdout))"
   ]
  },
  {
   "cell_type": "code",
   "execution_count": 5,
   "metadata": {},
   "outputs": [
    {
     "name": "stdout",
     "output_type": "stream",
     "text": [
      "asd\n"
     ]
    }
   ],
   "source": [
    "logger.info(\"asd\")"
   ]
  },
  {
   "cell_type": "code",
   "execution_count": 6,
   "metadata": {},
   "outputs": [],
   "source": [
    "%autoreload 2\n",
    "from huggingmolecules import MatConfig, MatFeaturizer, MatModel\n",
    "from huggingmolecules import GroverConfig, GroverFeaturizer, GroverModel\n",
    "from huggingmolecules import RMatConfig, RMatFeaturizer, RMatModel\n",
    "from models import StrippedMatModel, StrippedGroverModel, StrippedRMatModel"
   ]
  },
  {
   "cell_type": "code",
   "execution_count": 13,
   "metadata": {},
   "outputs": [],
   "source": [
    "%autoreload 2\n",
    "from utils import load_ogb_dataset, load_tdc_dataset, featurize_with, get_huggingmolecules_processors, process"
   ]
  },
  {
   "cell_type": "code",
   "execution_count": 8,
   "metadata": {},
   "outputs": [],
   "source": [
    "import tdc"
   ]
  },
  {
   "cell_type": "code",
   "execution_count": 9,
   "metadata": {},
   "outputs": [],
   "source": [
    "import rdkit.rdBase as rkrb\n",
    "import rdkit.RDLogger as rkl\n",
    "\n",
    "logger = rkl.logger()\n",
    "logger.setLevel(rkl.ERROR)\n",
    "rkrb.DisableLog('rdApp.error')"
   ]
  },
  {
   "cell_type": "code",
   "execution_count": 11,
   "metadata": {},
   "outputs": [],
   "source": [
    "ogb_datasets = [\n",
    "    \"ogbg-moltox21\",\n",
    "    \"ogbg-molbace\",\n",
    "    \"ogbg-molbbbp\",\n",
    "    \"ogbg-molclintox\",\n",
    "    \"ogbg-molmuv\",\n",
    "    \"ogbg-molsider\",\n",
    "    \"ogbg-moltoxcast\",\n",
    "    \"ogbg-molesol\",\n",
    "    \"ogbg-molfreesolv\",\n",
    "    \"ogbg-mollipo\"\n",
    "]"
   ]
  },
  {
   "cell_type": "code",
   "execution_count": 12,
   "metadata": {},
   "outputs": [
    {
     "name": "stdout",
     "output_type": "stream",
     "text": [
      "\n",
      "Starting new procedure (2024-01-08 18:25:05.161535)\n"
     ]
    },
    {
     "name": "stdout",
     "output_type": "stream",
     "text": [
      "Processing ogbg-moltox21 with mat_masking_20M\n"
     ]
    },
    {
     "name": "stderr",
     "output_type": "stream",
     "text": [
      "  3%|▎         | 218/7831 [00:29<04:38, 27.37it/s]  "
     ]
    },
    {
     "name": "stdout",
     "output_type": "stream",
     "text": [
      "Heavy processing (166.3s) of 'C=C1C[C@]23CC[C@@H]4[C@](C)(C(=O)O[C@@H]5O[C@H](CO)[C@@H](O)[C@H](O)[C@H]5O)CCC[C@]4(C)[C@@H]2C[C@@H](O[C@@H]2O[C@H](CO)[C@@H](O)[C@H](O[C@@H]4O[C@H](CO)[C@@H](O)[C@H](O)[C@H]4O)[C@H]2OC2O[C@H](CO)[C@@H](O)[C@H](O)[C@H]2O)[C@@H]1C3'                    \n"
     ]
    },
    {
     "name": "stderr",
     "output_type": "stream",
     "text": [
      " 20%|██        | 1598/7831 [05:30<07:14, 14.34it/s]  "
     ]
    },
    {
     "name": "stdout",
     "output_type": "stream",
     "text": [
      "Heavy processing (32.1s) of 'ClC1=C(Cl)[C@]2(Cl)[C@H]3[C@H]([C@H]4C=C[C@H]3C4)[C@@]1(Cl)C2(Cl)Cl'                    \n"
     ]
    },
    {
     "name": "stderr",
     "output_type": "stream",
     "text": [
      " 62%|██████▏   | 4870/7831 [13:30<11:56,  4.14it/s]  "
     ]
    },
    {
     "name": "stdout",
     "output_type": "stream",
     "text": [
      "Heavy processing (35.5s) of 'C1C[C@H]2[C@@H]3CC[C@H](C3)[C@H]2C1'                    \n"
     ]
    },
    {
     "name": "stderr",
     "output_type": "stream",
     "text": [
      " 69%|██████▉   | 5441/7831 [15:40<02:41, 14.77it/s]  "
     ]
    },
    {
     "name": "stdout",
     "output_type": "stream",
     "text": [
      "Heavy processing (15.2s) of 'CC(/C=C/C=C(\\C)C(=O)O[C@@H]1O[C@H](CO[C@@H]2O[C@H](CO)[C@@H](O)[C@H](O)[C@H]2O)[C@@H](O)[C@H](O)[C@H]1O)=C\\C=C\\C=C(C)\\C=C\\C=C(/C)C(=O)O[C@@H]1O[C@H](CO[C@@H]2O[C@H](CO)[C@@H](O)[C@H](O)[C@H]2O)[C@@H](O)[C@H](O)[C@H]1O'                    \n"
     ]
    },
    {
     "name": "stderr",
     "output_type": "stream",
     "text": [
      " 73%|███████▎  | 5718/7831 [16:30<01:02, 33.91it/s]  "
     ]
    },
    {
     "name": "stdout",
     "output_type": "stream",
     "text": [
      "Heavy processing (366.0s) of 'CO[C@@]12CC[C@@]3(C[C@@H]1[C@](C)(O)C(C)(C)C)[C@H]1Cc4ccc(O)c5c4[C@@]3(CCN1CC1CC1)[C@H]2O5'                    \n"
     ]
    },
    {
     "name": "stderr",
     "output_type": "stream",
     "text": [
      " 80%|███████▉  | 6244/7831 [23:50<12:39,  2.09it/s]   "
     ]
    },
    {
     "name": "stdout",
     "output_type": "stream",
     "text": [
      "Heavy processing (524.3s) of 'Cc1nnc(C(C)C)n1C1C[C@H]2CC[C@H](C1)N2CC[C@H](NC(=O)C1CCC(F)(F)CC1)c1ccccc1'                    \n"
     ]
    },
    {
     "name": "stderr",
     "output_type": "stream",
     "text": [
      "100%|██████████| 7831/7831 [36:15<00:00,  3.60it/s]   \n",
      "100%|██████████| 7831/7831 [07:58<00:00, 16.35it/s]\n"
     ]
    },
    {
     "name": "stdout",
     "output_type": "stream",
     "text": [
      "Processing took 45.5m\n",
      "Processing ogbg-moltox21 with mat_masking_20M\n",
      "✔️\n",
      "Processing ogbg-moltox21 with mat_masking_20M\n",
      "✔️\n"
     ]
    },
    {
     "name": "stderr",
     "output_type": "stream",
     "text": [
      "Downloading...\n",
      "From (uriginal): https://drive.google.com/uc?id=1eQfPPWghmaq-dvWNO-bhom1UsovKn2h5\n",
      "From (redirected): https://drive.google.com/uc?id=1eQfPPWghmaq-dvWNO-bhom1UsovKn2h5&confirm=t&uuid=e5d71982-8d0b-481d-a7ac-6e79c6aaf2eb\n",
      "To: /home/michlampert/.cache/torch/huggingmolecules/grover_large.pt\n",
      "100%|██████████| 429M/429M [02:32<00:00, 2.81MB/s] \n",
      "Downloading...\n",
      "From: https://drive.google.com/uc?id=1T2ot3tF6aRR9jsveKB5ZEdvCOpt-D8Aj\n",
      "To: /home/michlampert/.cache/torch/huggingmolecules/grover_large.json\n",
      "100%|██████████| 602/602 [00:00<00:00, 2.50MB/s]\n"
     ]
    },
    {
     "name": "stdout",
     "output_type": "stream",
     "text": [
      "Processing ogbg-moltox21 with grover_large\n"
     ]
    },
    {
     "name": "stderr",
     "output_type": "stream",
     "text": [
      "INFO:molecules:Processing ogbg-moltox21 with grover_large\n",
      " 52%|█████▏    | 4052/7831 [00:15<00:14, 264.70it/s]\n"
     ]
    },
    {
     "ename": "KeyboardInterrupt",
     "evalue": "",
     "output_type": "error",
     "traceback": [
      "\u001b[0;31m---------------------------------------------------------------------------\u001b[0m",
      "\u001b[0;31mKeyboardInterrupt\u001b[0m                         Traceback (most recent call last)",
      "Cell \u001b[0;32mIn[12], line 26\u001b[0m\n\u001b[1;32m     22\u001b[0m \u001b[38;5;28;01mif\u001b[39;00m \u001b[38;5;129;01mnot\u001b[39;00m os\u001b[38;5;241m.\u001b[39mpath\u001b[38;5;241m.\u001b[39misfile(\u001b[38;5;124mf\u001b[39m\u001b[38;5;124m\"\u001b[39m\u001b[38;5;124membeddings/\u001b[39m\u001b[38;5;132;01m{\u001b[39;00mdataset_name\u001b[38;5;132;01m}\u001b[39;00m\u001b[38;5;124m/\u001b[39m\u001b[38;5;132;01m{\u001b[39;00mconfig\u001b[38;5;132;01m}\u001b[39;00m\u001b[38;5;124m.zip\u001b[39m\u001b[38;5;124m\"\u001b[39m):\n\u001b[1;32m     24\u001b[0m     start \u001b[38;5;241m=\u001b[39m time\u001b[38;5;241m.\u001b[39mtime()\n\u001b[0;32m---> 26\u001b[0m     \u001b[43mprocess\u001b[49m\u001b[43m(\u001b[49m\u001b[43msmiles\u001b[49m\u001b[43m,\u001b[49m\u001b[43m \u001b[49m\u001b[43mmodel\u001b[49m\u001b[43m,\u001b[49m\u001b[43m \u001b[49m\u001b[43mfeaturizer\u001b[49m\u001b[43m)\u001b[49m\n\u001b[1;32m     28\u001b[0m     smiles\u001b[38;5;241m.\u001b[39mto_csv(\n\u001b[1;32m     29\u001b[0m         \u001b[38;5;124mf\u001b[39m\u001b[38;5;124m'\u001b[39m\u001b[38;5;124membeddings/\u001b[39m\u001b[38;5;132;01m{\u001b[39;00mdataset_name\u001b[38;5;132;01m}\u001b[39;00m\u001b[38;5;124m/\u001b[39m\u001b[38;5;132;01m{\u001b[39;00mconfig\u001b[38;5;132;01m}\u001b[39;00m\u001b[38;5;124m.zip\u001b[39m\u001b[38;5;124m'\u001b[39m,\n\u001b[1;32m     30\u001b[0m         compression\u001b[38;5;241m=\u001b[39m{\u001b[38;5;124m\"\u001b[39m\u001b[38;5;124mmethod\u001b[39m\u001b[38;5;124m\"\u001b[39m: \u001b[38;5;124m'\u001b[39m\u001b[38;5;124mzip\u001b[39m\u001b[38;5;124m'\u001b[39m, \u001b[38;5;124m\"\u001b[39m\u001b[38;5;124marchive_name\u001b[39m\u001b[38;5;124m\"\u001b[39m: \u001b[38;5;124mf\u001b[39m\u001b[38;5;124m'\u001b[39m\u001b[38;5;124membeddings.csv\u001b[39m\u001b[38;5;124m'\u001b[39m},\n\u001b[1;32m     31\u001b[0m         index\u001b[38;5;241m=\u001b[39m\u001b[38;5;28;01mTrue\u001b[39;00m\n\u001b[1;32m     32\u001b[0m     )\n\u001b[1;32m     34\u001b[0m     logger\u001b[38;5;241m.\u001b[39minfo(\u001b[38;5;124mf\u001b[39m\u001b[38;5;124m\"\u001b[39m\u001b[38;5;124mProcessing took \u001b[39m\u001b[38;5;132;01m{\u001b[39;00m((time\u001b[38;5;241m.\u001b[39mtime()\u001b[38;5;250m \u001b[39m\u001b[38;5;241m-\u001b[39m\u001b[38;5;250m \u001b[39mstart)\u001b[38;5;241m/\u001b[39m\u001b[38;5;241m60\u001b[39m)\u001b[38;5;132;01m:\u001b[39;00m\u001b[38;5;124m.1f\u001b[39m\u001b[38;5;132;01m}\u001b[39;00m\u001b[38;5;124mm\u001b[39m\u001b[38;5;124m\"\u001b[39m)\n",
      "Cell \u001b[0;32mIn[10], line 4\u001b[0m, in \u001b[0;36mprocess\u001b[0;34m(df, model, featurizer)\u001b[0m\n\u001b[1;32m      2\u001b[0m \u001b[38;5;28;01mwith\u001b[39;00m torch\u001b[38;5;241m.\u001b[39mno_grad():\n\u001b[1;32m      3\u001b[0m     tqdm\u001b[38;5;241m.\u001b[39mpandas()\n\u001b[0;32m----> 4\u001b[0m     df[\u001b[38;5;124m\"\u001b[39m\u001b[38;5;124mfeatures\u001b[39m\u001b[38;5;124m\"\u001b[39m] \u001b[38;5;241m=\u001b[39m \u001b[43mdf\u001b[49m\u001b[38;5;241;43m.\u001b[39;49m\u001b[43msmiles\u001b[49m\u001b[38;5;241;43m.\u001b[39;49m\u001b[43mprogress_map\u001b[49m\u001b[43m(\u001b[49m\u001b[43mfeaturize_with\u001b[49m\u001b[43m(\u001b[49m\u001b[43mfeaturizer\u001b[49m\u001b[43m)\u001b[49m\u001b[43m)\u001b[49m\n\u001b[1;32m      5\u001b[0m     df[\u001b[38;5;124m\"\u001b[39m\u001b[38;5;124membeddings\u001b[39m\u001b[38;5;124m\"\u001b[39m] \u001b[38;5;241m=\u001b[39m df\u001b[38;5;241m.\u001b[39mfeatures\u001b[38;5;241m.\u001b[39mdropna()\u001b[38;5;241m.\u001b[39mprogress_map(\u001b[38;5;28;01mlambda\u001b[39;00m f: model(f)[\u001b[38;5;241m0\u001b[39m])\n",
      "File \u001b[0;32m~/magisterka/venv/lib64/python3.10/site-packages/tqdm/std.py:920\u001b[0m, in \u001b[0;36mtqdm.pandas.<locals>.inner_generator.<locals>.inner\u001b[0;34m(df, func, *args, **kwargs)\u001b[0m\n\u001b[1;32m    917\u001b[0m \u001b[38;5;66;03m# Apply the provided function (in **kwargs)\u001b[39;00m\n\u001b[1;32m    918\u001b[0m \u001b[38;5;66;03m# on the df using our wrapper (which provides bar updating)\u001b[39;00m\n\u001b[1;32m    919\u001b[0m \u001b[38;5;28;01mtry\u001b[39;00m:\n\u001b[0;32m--> 920\u001b[0m     \u001b[38;5;28;01mreturn\u001b[39;00m \u001b[38;5;28;43mgetattr\u001b[39;49m\u001b[43m(\u001b[49m\u001b[43mdf\u001b[49m\u001b[43m,\u001b[49m\u001b[43m \u001b[49m\u001b[43mdf_function\u001b[49m\u001b[43m)\u001b[49m\u001b[43m(\u001b[49m\u001b[43mwrapper\u001b[49m\u001b[43m,\u001b[49m\u001b[43m \u001b[49m\u001b[38;5;241;43m*\u001b[39;49m\u001b[38;5;241;43m*\u001b[39;49m\u001b[43mkwargs\u001b[49m\u001b[43m)\u001b[49m\n\u001b[1;32m    921\u001b[0m \u001b[38;5;28;01mfinally\u001b[39;00m:\n\u001b[1;32m    922\u001b[0m     t\u001b[38;5;241m.\u001b[39mclose()\n",
      "File \u001b[0;32m~/magisterka/venv/lib64/python3.10/site-packages/pandas/core/series.py:4544\u001b[0m, in \u001b[0;36mSeries.map\u001b[0;34m(self, arg, na_action)\u001b[0m\n\u001b[1;32m   4464\u001b[0m \u001b[38;5;28;01mdef\u001b[39;00m \u001b[38;5;21mmap\u001b[39m(\n\u001b[1;32m   4465\u001b[0m     \u001b[38;5;28mself\u001b[39m,\n\u001b[1;32m   4466\u001b[0m     arg: Callable \u001b[38;5;241m|\u001b[39m Mapping \u001b[38;5;241m|\u001b[39m Series,\n\u001b[1;32m   4467\u001b[0m     na_action: Literal[\u001b[38;5;124m\"\u001b[39m\u001b[38;5;124mignore\u001b[39m\u001b[38;5;124m\"\u001b[39m] \u001b[38;5;241m|\u001b[39m \u001b[38;5;28;01mNone\u001b[39;00m \u001b[38;5;241m=\u001b[39m \u001b[38;5;28;01mNone\u001b[39;00m,\n\u001b[1;32m   4468\u001b[0m ) \u001b[38;5;241m-\u001b[39m\u001b[38;5;241m>\u001b[39m Series:\n\u001b[1;32m   4469\u001b[0m \u001b[38;5;250m    \u001b[39m\u001b[38;5;124;03m\"\"\"\u001b[39;00m\n\u001b[1;32m   4470\u001b[0m \u001b[38;5;124;03m    Map values of Series according to an input mapping or function.\u001b[39;00m\n\u001b[1;32m   4471\u001b[0m \n\u001b[0;32m   (...)\u001b[0m\n\u001b[1;32m   4542\u001b[0m \u001b[38;5;124;03m    dtype: object\u001b[39;00m\n\u001b[1;32m   4543\u001b[0m \u001b[38;5;124;03m    \"\"\"\u001b[39;00m\n\u001b[0;32m-> 4544\u001b[0m     new_values \u001b[38;5;241m=\u001b[39m \u001b[38;5;28;43mself\u001b[39;49m\u001b[38;5;241;43m.\u001b[39;49m\u001b[43m_map_values\u001b[49m\u001b[43m(\u001b[49m\u001b[43marg\u001b[49m\u001b[43m,\u001b[49m\u001b[43m \u001b[49m\u001b[43mna_action\u001b[49m\u001b[38;5;241;43m=\u001b[39;49m\u001b[43mna_action\u001b[49m\u001b[43m)\u001b[49m\n\u001b[1;32m   4545\u001b[0m     \u001b[38;5;28;01mreturn\u001b[39;00m \u001b[38;5;28mself\u001b[39m\u001b[38;5;241m.\u001b[39m_constructor(new_values, index\u001b[38;5;241m=\u001b[39m\u001b[38;5;28mself\u001b[39m\u001b[38;5;241m.\u001b[39mindex, copy\u001b[38;5;241m=\u001b[39m\u001b[38;5;28;01mFalse\u001b[39;00m)\u001b[38;5;241m.\u001b[39m__finalize__(\n\u001b[1;32m   4546\u001b[0m         \u001b[38;5;28mself\u001b[39m, method\u001b[38;5;241m=\u001b[39m\u001b[38;5;124m\"\u001b[39m\u001b[38;5;124mmap\u001b[39m\u001b[38;5;124m\"\u001b[39m\n\u001b[1;32m   4547\u001b[0m     )\n",
      "File \u001b[0;32m~/magisterka/venv/lib64/python3.10/site-packages/pandas/core/base.py:921\u001b[0m, in \u001b[0;36mIndexOpsMixin._map_values\u001b[0;34m(self, mapper, na_action, convert)\u001b[0m\n\u001b[1;32m    918\u001b[0m \u001b[38;5;28;01mif\u001b[39;00m \u001b[38;5;28misinstance\u001b[39m(arr, ExtensionArray):\n\u001b[1;32m    919\u001b[0m     \u001b[38;5;28;01mreturn\u001b[39;00m arr\u001b[38;5;241m.\u001b[39mmap(mapper, na_action\u001b[38;5;241m=\u001b[39mna_action)\n\u001b[0;32m--> 921\u001b[0m \u001b[38;5;28;01mreturn\u001b[39;00m \u001b[43malgorithms\u001b[49m\u001b[38;5;241;43m.\u001b[39;49m\u001b[43mmap_array\u001b[49m\u001b[43m(\u001b[49m\u001b[43marr\u001b[49m\u001b[43m,\u001b[49m\u001b[43m \u001b[49m\u001b[43mmapper\u001b[49m\u001b[43m,\u001b[49m\u001b[43m \u001b[49m\u001b[43mna_action\u001b[49m\u001b[38;5;241;43m=\u001b[39;49m\u001b[43mna_action\u001b[49m\u001b[43m,\u001b[49m\u001b[43m \u001b[49m\u001b[43mconvert\u001b[49m\u001b[38;5;241;43m=\u001b[39;49m\u001b[43mconvert\u001b[49m\u001b[43m)\u001b[49m\n",
      "File \u001b[0;32m~/magisterka/venv/lib64/python3.10/site-packages/pandas/core/algorithms.py:1814\u001b[0m, in \u001b[0;36mmap_array\u001b[0;34m(arr, mapper, na_action, convert)\u001b[0m\n\u001b[1;32m   1812\u001b[0m values \u001b[38;5;241m=\u001b[39m arr\u001b[38;5;241m.\u001b[39mastype(\u001b[38;5;28mobject\u001b[39m, copy\u001b[38;5;241m=\u001b[39m\u001b[38;5;28;01mFalse\u001b[39;00m)\n\u001b[1;32m   1813\u001b[0m \u001b[38;5;28;01mif\u001b[39;00m na_action \u001b[38;5;129;01mis\u001b[39;00m \u001b[38;5;28;01mNone\u001b[39;00m:\n\u001b[0;32m-> 1814\u001b[0m     \u001b[38;5;28;01mreturn\u001b[39;00m \u001b[43mlib\u001b[49m\u001b[38;5;241;43m.\u001b[39;49m\u001b[43mmap_infer\u001b[49m\u001b[43m(\u001b[49m\u001b[43mvalues\u001b[49m\u001b[43m,\u001b[49m\u001b[43m \u001b[49m\u001b[43mmapper\u001b[49m\u001b[43m,\u001b[49m\u001b[43m \u001b[49m\u001b[43mconvert\u001b[49m\u001b[38;5;241;43m=\u001b[39;49m\u001b[43mconvert\u001b[49m\u001b[43m)\u001b[49m\n\u001b[1;32m   1815\u001b[0m \u001b[38;5;28;01melse\u001b[39;00m:\n\u001b[1;32m   1816\u001b[0m     \u001b[38;5;28;01mreturn\u001b[39;00m lib\u001b[38;5;241m.\u001b[39mmap_infer_mask(\n\u001b[1;32m   1817\u001b[0m         values, mapper, mask\u001b[38;5;241m=\u001b[39misna(values)\u001b[38;5;241m.\u001b[39mview(np\u001b[38;5;241m.\u001b[39muint8), convert\u001b[38;5;241m=\u001b[39mconvert\n\u001b[1;32m   1818\u001b[0m     )\n",
      "File \u001b[0;32mlib.pyx:2926\u001b[0m, in \u001b[0;36mpandas._libs.lib.map_infer\u001b[0;34m()\u001b[0m\n",
      "File \u001b[0;32m~/magisterka/venv/lib64/python3.10/site-packages/tqdm/std.py:915\u001b[0m, in \u001b[0;36mtqdm.pandas.<locals>.inner_generator.<locals>.inner.<locals>.wrapper\u001b[0;34m(*args, **kwargs)\u001b[0m\n\u001b[1;32m    909\u001b[0m \u001b[38;5;28;01mdef\u001b[39;00m \u001b[38;5;21mwrapper\u001b[39m(\u001b[38;5;241m*\u001b[39margs, \u001b[38;5;241m*\u001b[39m\u001b[38;5;241m*\u001b[39mkwargs):\n\u001b[1;32m    910\u001b[0m     \u001b[38;5;66;03m# update tbar correctly\u001b[39;00m\n\u001b[1;32m    911\u001b[0m     \u001b[38;5;66;03m# it seems `pandas apply` calls `func` twice\u001b[39;00m\n\u001b[1;32m    912\u001b[0m     \u001b[38;5;66;03m# on the first column/row to decide whether it can\u001b[39;00m\n\u001b[1;32m    913\u001b[0m     \u001b[38;5;66;03m# take a fast or slow code path; so stop when t.total==t.n\u001b[39;00m\n\u001b[1;32m    914\u001b[0m     t\u001b[38;5;241m.\u001b[39mupdate(n\u001b[38;5;241m=\u001b[39m\u001b[38;5;241m1\u001b[39m \u001b[38;5;28;01mif\u001b[39;00m \u001b[38;5;129;01mnot\u001b[39;00m t\u001b[38;5;241m.\u001b[39mtotal \u001b[38;5;129;01mor\u001b[39;00m t\u001b[38;5;241m.\u001b[39mn \u001b[38;5;241m<\u001b[39m t\u001b[38;5;241m.\u001b[39mtotal \u001b[38;5;28;01melse\u001b[39;00m \u001b[38;5;241m0\u001b[39m)\n\u001b[0;32m--> 915\u001b[0m     \u001b[38;5;28;01mreturn\u001b[39;00m \u001b[43mfunc\u001b[49m\u001b[43m(\u001b[49m\u001b[38;5;241;43m*\u001b[39;49m\u001b[43margs\u001b[49m\u001b[43m,\u001b[49m\u001b[43m \u001b[49m\u001b[38;5;241;43m*\u001b[39;49m\u001b[38;5;241;43m*\u001b[39;49m\u001b[43mkwargs\u001b[49m\u001b[43m)\u001b[49m\n",
      "File \u001b[0;32m~/magisterka/utils.py:40\u001b[0m, in \u001b[0;36minner\u001b[0;34m(smiles)\u001b[0m\n\u001b[1;32m     38\u001b[0m \u001b[38;5;28;01mdef\u001b[39;00m \u001b[38;5;21minner\u001b[39m(smiles):\n\u001b[1;32m     39\u001b[0m     \u001b[38;5;28;01mtry\u001b[39;00m:\n\u001b[0;32m---> 40\u001b[0m         start \u001b[38;5;241m=\u001b[39m time\u001b[38;5;241m.\u001b[39mtime()\n\u001b[1;32m     41\u001b[0m         res \u001b[38;5;241m=\u001b[39m featurizer([smiles])\n\u001b[1;32m     42\u001b[0m         \u001b[38;5;28;01mif\u001b[39;00m time\u001b[38;5;241m.\u001b[39mtime() \u001b[38;5;241m-\u001b[39m start \u001b[38;5;241m>\u001b[39m \u001b[38;5;241m10\u001b[39m:\n",
      "File \u001b[0;32m~/magisterka/venv/lib64/python3.10/site-packages/huggingmolecules/featurization/featurization_api.py:29\u001b[0m, in \u001b[0;36mPretrainedFeaturizerMixin.__call__\u001b[0;34m(self, smiles_list, y_list)\u001b[0m\n\u001b[1;32m     28\u001b[0m \u001b[38;5;28;01mdef\u001b[39;00m \u001b[38;5;21m__call__\u001b[39m(\u001b[38;5;28mself\u001b[39m, smiles_list: List[\u001b[38;5;28mstr\u001b[39m], y_list: Optional[List[\u001b[38;5;28mfloat\u001b[39m]] \u001b[38;5;241m=\u001b[39m \u001b[38;5;28;01mNone\u001b[39;00m) \u001b[38;5;241m-\u001b[39m\u001b[38;5;241m>\u001b[39m T_BatchEncoding:\n\u001b[0;32m---> 29\u001b[0m     encodings \u001b[38;5;241m=\u001b[39m \u001b[38;5;28;43mself\u001b[39;49m\u001b[38;5;241;43m.\u001b[39;49m\u001b[43mencode_smiles_list\u001b[49m\u001b[43m(\u001b[49m\u001b[43msmiles_list\u001b[49m\u001b[43m,\u001b[49m\u001b[43m \u001b[49m\u001b[43my_list\u001b[49m\u001b[43m)\u001b[49m\n\u001b[1;32m     30\u001b[0m     batch \u001b[38;5;241m=\u001b[39m \u001b[38;5;28mself\u001b[39m\u001b[38;5;241m.\u001b[39m_collate_encodings(encodings)\n\u001b[1;32m     31\u001b[0m     \u001b[38;5;28;01mreturn\u001b[39;00m batch\n",
      "File \u001b[0;32m~/magisterka/venv/lib64/python3.10/site-packages/huggingmolecules/featurization/featurization_api.py:40\u001b[0m, in \u001b[0;36mPretrainedFeaturizerMixin.encode_smiles_list\u001b[0;34m(self, smiles_list, y_list)\u001b[0m\n\u001b[1;32m     38\u001b[0m y_list \u001b[38;5;241m=\u001b[39m y_list \u001b[38;5;28;01mif\u001b[39;00m y_list \u001b[38;5;129;01mis\u001b[39;00m \u001b[38;5;129;01mnot\u001b[39;00m \u001b[38;5;28;01mNone\u001b[39;00m \u001b[38;5;28;01melse\u001b[39;00m (\u001b[38;5;28;01mNone\u001b[39;00m \u001b[38;5;28;01mfor\u001b[39;00m _ \u001b[38;5;129;01min\u001b[39;00m smiles_list)\n\u001b[1;32m     39\u001b[0m \u001b[38;5;28;01mfor\u001b[39;00m smiles, y \u001b[38;5;129;01min\u001b[39;00m \u001b[38;5;28mzip\u001b[39m(smiles_list, y_list):\n\u001b[0;32m---> 40\u001b[0m     encodings\u001b[38;5;241m.\u001b[39mappend(\u001b[38;5;28;43mself\u001b[39;49m\u001b[38;5;241;43m.\u001b[39;49m\u001b[43m_encode_smiles\u001b[49m\u001b[43m(\u001b[49m\u001b[43msmiles\u001b[49m\u001b[43m,\u001b[49m\u001b[43m \u001b[49m\u001b[43my\u001b[49m\u001b[43m)\u001b[49m)\n\u001b[1;32m     41\u001b[0m \u001b[38;5;28;01mreturn\u001b[39;00m encodings\n",
      "File \u001b[0;32m~/magisterka/venv/lib64/python3.10/site-packages/huggingmolecules/featurization/featurization_grover.py:58\u001b[0m, in \u001b[0;36mGroverFeaturizer._encode_smiles\u001b[0;34m(self, smiles, y)\u001b[0m\n\u001b[1;32m     57\u001b[0m \u001b[38;5;28;01mdef\u001b[39;00m \u001b[38;5;21m_encode_smiles\u001b[39m(\u001b[38;5;28mself\u001b[39m, smiles: \u001b[38;5;28mstr\u001b[39m, y: Optional[\u001b[38;5;28mfloat\u001b[39m]) \u001b[38;5;241m-\u001b[39m\u001b[38;5;241m>\u001b[39m GroverMoleculeEncoding:\n\u001b[0;32m---> 58\u001b[0m     mol \u001b[38;5;241m=\u001b[39m \u001b[43mChem\u001b[49m\u001b[38;5;241;43m.\u001b[39;49m\u001b[43mMolFromSmiles\u001b[49m\u001b[43m(\u001b[49m\u001b[43msmiles\u001b[49m\u001b[43m)\u001b[49m\n\u001b[1;32m     60\u001b[0m     atom_features \u001b[38;5;241m=\u001b[39m build_atom_features(mol)\n\u001b[1;32m     61\u001b[0m     bond_features, a2b, b2a, b2revb \u001b[38;5;241m=\u001b[39m build_bond_features_and_mappings(mol, atom_features)\n",
      "\u001b[0;31mKeyboardInterrupt\u001b[0m: "
     ]
    }
   ],
   "source": [
    "logger = logging.getLogger(\"molecules\")\n",
    "\n",
    "logger.info(f\"\")\n",
    "logger.info(f\"Starting new procedure ({datetime.datetime.now()})\")\n",
    "\n",
    "if not os.path.exists(\"embeddings\"):\n",
    "    os.mkdir(\"embeddings\")\n",
    "\n",
    "for dataset_name in ogb_datasets:\n",
    "\n",
    "    df, split_idx = load_ogb_dataset(dataset_name)\n",
    "\n",
    "    if not os.path.exists(f\"embeddings/{dataset_name}\"):\n",
    "        os.mkdir(f\"embeddings/{dataset_name}\")\n",
    "\n",
    "    for config, model, featurizer in get_huggingmolecules_processors():\n",
    "\n",
    "        logger.info(f\"Processing {dataset_name} with {config}\")\n",
    "        \n",
    "        smiles = df.copy(deep=True)\n",
    "\n",
    "        if not os.path.isfile(f\"embeddings/{dataset_name}/{config}.zip\"):\n",
    "\n",
    "            start = time.time()\n",
    "\n",
    "            process(smiles, model, featurizer)\n",
    "\n",
    "            smiles.to_csv(\n",
    "                f'embeddings/{dataset_name}/{config}.zip',\n",
    "                compression={\"method\": 'zip', \"archive_name\": f'embeddings.csv'},\n",
    "                index=True\n",
    "            )\n",
    "\n",
    "            logger.info(f\"Processing took {((time.time() - start)/60):.1f}m\")\n",
    "\n",
    "        else:\n",
    "            logger.info(\"✔️\")"
   ]
  },
  {
   "cell_type": "code",
   "execution_count": 14,
   "metadata": {},
   "outputs": [
    {
     "data": {
      "text/html": [
       "<div>\n",
       "<style scoped>\n",
       "    .dataframe tbody tr th:only-of-type {\n",
       "        vertical-align: middle;\n",
       "    }\n",
       "\n",
       "    .dataframe tbody tr th {\n",
       "        vertical-align: top;\n",
       "    }\n",
       "\n",
       "    .dataframe thead th {\n",
       "        text-align: right;\n",
       "    }\n",
       "</style>\n",
       "<table border=\"1\" class=\"dataframe\">\n",
       "  <thead>\n",
       "    <tr style=\"text-align: right;\">\n",
       "      <th></th>\n",
       "      <th>NR-AR</th>\n",
       "      <th>NR-AR-LBD</th>\n",
       "      <th>NR-AhR</th>\n",
       "      <th>NR-Aromatase</th>\n",
       "      <th>NR-ER</th>\n",
       "      <th>NR-ER-LBD</th>\n",
       "      <th>NR-PPAR-gamma</th>\n",
       "      <th>SR-ARE</th>\n",
       "      <th>SR-ATAD5</th>\n",
       "      <th>SR-HSE</th>\n",
       "      <th>SR-MMP</th>\n",
       "      <th>SR-p53</th>\n",
       "      <th>smiles</th>\n",
       "      <th>features</th>\n",
       "      <th>embeddings</th>\n",
       "    </tr>\n",
       "  </thead>\n",
       "  <tbody>\n",
       "    <tr>\n",
       "      <th>0</th>\n",
       "      <td>0.0</td>\n",
       "      <td>0.0</td>\n",
       "      <td>1.0</td>\n",
       "      <td>NaN</td>\n",
       "      <td>NaN</td>\n",
       "      <td>0.0</td>\n",
       "      <td>0.0</td>\n",
       "      <td>1.0</td>\n",
       "      <td>0.0</td>\n",
       "      <td>0.0</td>\n",
       "      <td>0.0</td>\n",
       "      <td>0.0</td>\n",
       "      <td>CCOc1ccc2nc(S(N)(=O)=O)sc2c1</td>\n",
       "      <td>MatBatchEncoding(node_features=tensor([[[1., 0...</td>\n",
       "      <td>tensor([ 0.9850, -1.6232, -1.3696,  ..., -0.45...</td>\n",
       "    </tr>\n",
       "    <tr>\n",
       "      <th>1</th>\n",
       "      <td>0.0</td>\n",
       "      <td>0.0</td>\n",
       "      <td>0.0</td>\n",
       "      <td>0.0</td>\n",
       "      <td>0.0</td>\n",
       "      <td>0.0</td>\n",
       "      <td>0.0</td>\n",
       "      <td>NaN</td>\n",
       "      <td>0.0</td>\n",
       "      <td>NaN</td>\n",
       "      <td>0.0</td>\n",
       "      <td>0.0</td>\n",
       "      <td>CCN1C(=O)NC(c2ccccc2)C1=O</td>\n",
       "      <td>MatBatchEncoding(node_features=tensor([[[1., 0...</td>\n",
       "      <td>tensor([ 1.1288, -1.6356, -1.2447,  ..., -0.57...</td>\n",
       "    </tr>\n",
       "    <tr>\n",
       "      <th>2</th>\n",
       "      <td>NaN</td>\n",
       "      <td>NaN</td>\n",
       "      <td>NaN</td>\n",
       "      <td>NaN</td>\n",
       "      <td>NaN</td>\n",
       "      <td>NaN</td>\n",
       "      <td>NaN</td>\n",
       "      <td>0.0</td>\n",
       "      <td>NaN</td>\n",
       "      <td>0.0</td>\n",
       "      <td>NaN</td>\n",
       "      <td>NaN</td>\n",
       "      <td>CC[C@]1(O)CC[C@H]2[C@@H]3CCC4=CCCC[C@@H]4[C@H]...</td>\n",
       "      <td>MatBatchEncoding(node_features=tensor([[[1., 0...</td>\n",
       "      <td>tensor([ 0.8760, -1.6521, -1.3986,  ..., -0.48...</td>\n",
       "    </tr>\n",
       "    <tr>\n",
       "      <th>3</th>\n",
       "      <td>0.0</td>\n",
       "      <td>0.0</td>\n",
       "      <td>0.0</td>\n",
       "      <td>0.0</td>\n",
       "      <td>0.0</td>\n",
       "      <td>0.0</td>\n",
       "      <td>0.0</td>\n",
       "      <td>NaN</td>\n",
       "      <td>0.0</td>\n",
       "      <td>NaN</td>\n",
       "      <td>0.0</td>\n",
       "      <td>0.0</td>\n",
       "      <td>CCCN(CC)C(CC)C(=O)Nc1c(C)cccc1C</td>\n",
       "      <td>MatBatchEncoding(node_features=tensor([[[1., 0...</td>\n",
       "      <td>tensor([ 0.9150, -1.5352, -1.3837,  ..., -0.49...</td>\n",
       "    </tr>\n",
       "    <tr>\n",
       "      <th>4</th>\n",
       "      <td>0.0</td>\n",
       "      <td>0.0</td>\n",
       "      <td>0.0</td>\n",
       "      <td>0.0</td>\n",
       "      <td>0.0</td>\n",
       "      <td>0.0</td>\n",
       "      <td>0.0</td>\n",
       "      <td>0.0</td>\n",
       "      <td>0.0</td>\n",
       "      <td>0.0</td>\n",
       "      <td>0.0</td>\n",
       "      <td>0.0</td>\n",
       "      <td>CC(O)(P(=O)(O)O)P(=O)(O)O</td>\n",
       "      <td>MatBatchEncoding(node_features=tensor([[[1., 0...</td>\n",
       "      <td>tensor([ 1.1751, -2.0371, -0.7114,  ..., -0.45...</td>\n",
       "    </tr>\n",
       "    <tr>\n",
       "      <th>...</th>\n",
       "      <td>...</td>\n",
       "      <td>...</td>\n",
       "      <td>...</td>\n",
       "      <td>...</td>\n",
       "      <td>...</td>\n",
       "      <td>...</td>\n",
       "      <td>...</td>\n",
       "      <td>...</td>\n",
       "      <td>...</td>\n",
       "      <td>...</td>\n",
       "      <td>...</td>\n",
       "      <td>...</td>\n",
       "      <td>...</td>\n",
       "      <td>...</td>\n",
       "      <td>...</td>\n",
       "    </tr>\n",
       "    <tr>\n",
       "      <th>7826</th>\n",
       "      <td>NaN</td>\n",
       "      <td>NaN</td>\n",
       "      <td>NaN</td>\n",
       "      <td>NaN</td>\n",
       "      <td>NaN</td>\n",
       "      <td>NaN</td>\n",
       "      <td>NaN</td>\n",
       "      <td>0.0</td>\n",
       "      <td>NaN</td>\n",
       "      <td>0.0</td>\n",
       "      <td>NaN</td>\n",
       "      <td>NaN</td>\n",
       "      <td>CCOc1nc2cccc(C(=O)O)c2n1Cc1ccc(-c2ccccc2-c2nnn...</td>\n",
       "      <td>MatBatchEncoding(node_features=tensor([[[1., 0...</td>\n",
       "      <td>tensor([ 1.2462, -1.3651, -1.4393,  ..., -0.59...</td>\n",
       "    </tr>\n",
       "    <tr>\n",
       "      <th>7827</th>\n",
       "      <td>1.0</td>\n",
       "      <td>1.0</td>\n",
       "      <td>0.0</td>\n",
       "      <td>0.0</td>\n",
       "      <td>1.0</td>\n",
       "      <td>0.0</td>\n",
       "      <td>NaN</td>\n",
       "      <td>NaN</td>\n",
       "      <td>0.0</td>\n",
       "      <td>0.0</td>\n",
       "      <td>NaN</td>\n",
       "      <td>0.0</td>\n",
       "      <td>CC(=O)[C@H]1CC[C@H]2[C@@H]3CCC4=CC(=O)CC[C@]4(...</td>\n",
       "      <td>MatBatchEncoding(node_features=tensor([[[1., 0...</td>\n",
       "      <td>tensor([ 0.6939, -1.7255, -1.3494,  ..., -0.43...</td>\n",
       "    </tr>\n",
       "    <tr>\n",
       "      <th>7828</th>\n",
       "      <td>1.0</td>\n",
       "      <td>1.0</td>\n",
       "      <td>0.0</td>\n",
       "      <td>0.0</td>\n",
       "      <td>1.0</td>\n",
       "      <td>1.0</td>\n",
       "      <td>0.0</td>\n",
       "      <td>1.0</td>\n",
       "      <td>0.0</td>\n",
       "      <td>0.0</td>\n",
       "      <td>0.0</td>\n",
       "      <td>0.0</td>\n",
       "      <td>C[C@]12CC[C@H]3[C@@H](CCC4=CC(=O)CC[C@@]43C)[C...</td>\n",
       "      <td>MatBatchEncoding(node_features=tensor([[[1., 0...</td>\n",
       "      <td>tensor([ 0.8341, -1.6769, -1.3438,  ..., -0.49...</td>\n",
       "    </tr>\n",
       "    <tr>\n",
       "      <th>7829</th>\n",
       "      <td>1.0</td>\n",
       "      <td>1.0</td>\n",
       "      <td>0.0</td>\n",
       "      <td>NaN</td>\n",
       "      <td>1.0</td>\n",
       "      <td>1.0</td>\n",
       "      <td>0.0</td>\n",
       "      <td>0.0</td>\n",
       "      <td>0.0</td>\n",
       "      <td>0.0</td>\n",
       "      <td>1.0</td>\n",
       "      <td>1.0</td>\n",
       "      <td>C[C@]12CC[C@@H]3c4ccc(O)cc4CC[C@H]3[C@@H]1CC[C...</td>\n",
       "      <td>MatBatchEncoding(node_features=tensor([[[1., 0...</td>\n",
       "      <td>tensor([ 0.9864, -1.5925, -1.4755,  ..., -0.60...</td>\n",
       "    </tr>\n",
       "    <tr>\n",
       "      <th>7830</th>\n",
       "      <td>0.0</td>\n",
       "      <td>0.0</td>\n",
       "      <td>NaN</td>\n",
       "      <td>0.0</td>\n",
       "      <td>0.0</td>\n",
       "      <td>0.0</td>\n",
       "      <td>0.0</td>\n",
       "      <td>0.0</td>\n",
       "      <td>0.0</td>\n",
       "      <td>0.0</td>\n",
       "      <td>1.0</td>\n",
       "      <td>0.0</td>\n",
       "      <td>COc1ccc2c(c1OC)CN1CCc3cc4c(cc3C1C2)OCO4</td>\n",
       "      <td>MatBatchEncoding(node_features=tensor([[[1., 0...</td>\n",
       "      <td>tensor([ 0.9923, -1.5690, -1.4977,  ..., -0.53...</td>\n",
       "    </tr>\n",
       "  </tbody>\n",
       "</table>\n",
       "<p>7831 rows × 15 columns</p>\n",
       "</div>"
      ],
      "text/plain": [
       "      NR-AR  NR-AR-LBD  NR-AhR  NR-Aromatase  NR-ER  NR-ER-LBD  NR-PPAR-gamma  \\\n",
       "0       0.0        0.0     1.0           NaN    NaN        0.0            0.0   \n",
       "1       0.0        0.0     0.0           0.0    0.0        0.0            0.0   \n",
       "2       NaN        NaN     NaN           NaN    NaN        NaN            NaN   \n",
       "3       0.0        0.0     0.0           0.0    0.0        0.0            0.0   \n",
       "4       0.0        0.0     0.0           0.0    0.0        0.0            0.0   \n",
       "...     ...        ...     ...           ...    ...        ...            ...   \n",
       "7826    NaN        NaN     NaN           NaN    NaN        NaN            NaN   \n",
       "7827    1.0        1.0     0.0           0.0    1.0        0.0            NaN   \n",
       "7828    1.0        1.0     0.0           0.0    1.0        1.0            0.0   \n",
       "7829    1.0        1.0     0.0           NaN    1.0        1.0            0.0   \n",
       "7830    0.0        0.0     NaN           0.0    0.0        0.0            0.0   \n",
       "\n",
       "      SR-ARE  SR-ATAD5  SR-HSE  SR-MMP  SR-p53  \\\n",
       "0        1.0       0.0     0.0     0.0     0.0   \n",
       "1        NaN       0.0     NaN     0.0     0.0   \n",
       "2        0.0       NaN     0.0     NaN     NaN   \n",
       "3        NaN       0.0     NaN     0.0     0.0   \n",
       "4        0.0       0.0     0.0     0.0     0.0   \n",
       "...      ...       ...     ...     ...     ...   \n",
       "7826     0.0       NaN     0.0     NaN     NaN   \n",
       "7827     NaN       0.0     0.0     NaN     0.0   \n",
       "7828     1.0       0.0     0.0     0.0     0.0   \n",
       "7829     0.0       0.0     0.0     1.0     1.0   \n",
       "7830     0.0       0.0     0.0     1.0     0.0   \n",
       "\n",
       "                                                 smiles  \\\n",
       "0                          CCOc1ccc2nc(S(N)(=O)=O)sc2c1   \n",
       "1                             CCN1C(=O)NC(c2ccccc2)C1=O   \n",
       "2     CC[C@]1(O)CC[C@H]2[C@@H]3CCC4=CCCC[C@@H]4[C@H]...   \n",
       "3                       CCCN(CC)C(CC)C(=O)Nc1c(C)cccc1C   \n",
       "4                             CC(O)(P(=O)(O)O)P(=O)(O)O   \n",
       "...                                                 ...   \n",
       "7826  CCOc1nc2cccc(C(=O)O)c2n1Cc1ccc(-c2ccccc2-c2nnn...   \n",
       "7827  CC(=O)[C@H]1CC[C@H]2[C@@H]3CCC4=CC(=O)CC[C@]4(...   \n",
       "7828  C[C@]12CC[C@H]3[C@@H](CCC4=CC(=O)CC[C@@]43C)[C...   \n",
       "7829  C[C@]12CC[C@@H]3c4ccc(O)cc4CC[C@H]3[C@@H]1CC[C...   \n",
       "7830            COc1ccc2c(c1OC)CN1CCc3cc4c(cc3C1C2)OCO4   \n",
       "\n",
       "                                               features  \\\n",
       "0     MatBatchEncoding(node_features=tensor([[[1., 0...   \n",
       "1     MatBatchEncoding(node_features=tensor([[[1., 0...   \n",
       "2     MatBatchEncoding(node_features=tensor([[[1., 0...   \n",
       "3     MatBatchEncoding(node_features=tensor([[[1., 0...   \n",
       "4     MatBatchEncoding(node_features=tensor([[[1., 0...   \n",
       "...                                                 ...   \n",
       "7826  MatBatchEncoding(node_features=tensor([[[1., 0...   \n",
       "7827  MatBatchEncoding(node_features=tensor([[[1., 0...   \n",
       "7828  MatBatchEncoding(node_features=tensor([[[1., 0...   \n",
       "7829  MatBatchEncoding(node_features=tensor([[[1., 0...   \n",
       "7830  MatBatchEncoding(node_features=tensor([[[1., 0...   \n",
       "\n",
       "                                             embeddings  \n",
       "0     tensor([ 0.9850, -1.6232, -1.3696,  ..., -0.45...  \n",
       "1     tensor([ 1.1288, -1.6356, -1.2447,  ..., -0.57...  \n",
       "2     tensor([ 0.8760, -1.6521, -1.3986,  ..., -0.48...  \n",
       "3     tensor([ 0.9150, -1.5352, -1.3837,  ..., -0.49...  \n",
       "4     tensor([ 1.1751, -2.0371, -0.7114,  ..., -0.45...  \n",
       "...                                                 ...  \n",
       "7826  tensor([ 1.2462, -1.3651, -1.4393,  ..., -0.59...  \n",
       "7827  tensor([ 0.6939, -1.7255, -1.3494,  ..., -0.43...  \n",
       "7828  tensor([ 0.8341, -1.6769, -1.3438,  ..., -0.49...  \n",
       "7829  tensor([ 0.9864, -1.5925, -1.4755,  ..., -0.60...  \n",
       "7830  tensor([ 0.9923, -1.5690, -1.4977,  ..., -0.53...  \n",
       "\n",
       "[7831 rows x 15 columns]"
      ]
     },
     "execution_count": 14,
     "metadata": {},
     "output_type": "execute_result"
    }
   ],
   "source": [
    "pd.read_csv('embeddings/ogbg-moltox21/mat_masking_20M.zip', index_col=0)"
   ]
  },
  {
   "cell_type": "code",
   "execution_count": 15,
   "metadata": {},
   "outputs": [],
   "source": [
    "from tdc.single_pred import ADME\n",
    "\n",
    "tdc_datasets = [\n",
    "    (ADME, 'Caco2_Wang'),\n",
    "    (ADME, 'Half_Life_Obach'),\n",
    "]"
   ]
  },
  {
   "cell_type": "code",
   "execution_count": 18,
   "metadata": {},
   "outputs": [
    {
     "name": "stdout",
     "output_type": "stream",
     "text": [
      "\n"
     ]
    },
    {
     "name": "stderr",
     "output_type": "stream",
     "text": [
      "INFO:molecules:\n"
     ]
    },
    {
     "name": "stdout",
     "output_type": "stream",
     "text": [
      "Starting new procedure (2024-01-08 19:21:08.539002)\n"
     ]
    },
    {
     "name": "stderr",
     "output_type": "stream",
     "text": [
      "INFO:molecules:Starting new procedure (2024-01-08 19:21:08.539002)\n",
      "Found local copy...\n",
      "Loading...\n",
      "Done!\n"
     ]
    },
    {
     "name": "stdout",
     "output_type": "stream",
     "text": [
      "Processing Caco2_Wang with mat_masking_20M\n"
     ]
    },
    {
     "name": "stderr",
     "output_type": "stream",
     "text": [
      "INFO:molecules:Processing Caco2_Wang with mat_masking_20M\n",
      "  9%|▉         | 85/910 [00:16<02:24,  5.72it/s]"
     ]
    },
    {
     "name": "stdout",
     "output_type": "stream",
     "text": [
      "Heavy processing (20.2s) of 'CO[C@H]1C[C@@H]2CC[C@@H](C)[C@@](O)(O2)C(=O)C(=O)N2CCCC[C@H]2C(=O)O[C@H]([C@H](C)C[C@@H]2CC[C@@H](O)[C@H](OC)C2)CC(=O)[C@H](C)/C=C(\\C)[C@@H](O)[C@@H](OC)C(=O)[C@H](C)C[C@H](C)/C=C/C=C/C=C/1C'                    \n"
     ]
    },
    {
     "name": "stderr",
     "output_type": "stream",
     "text": [
      "Heavy processing (20.2s) of 'CO[C@H]1C[C@@H]2CC[C@@H](C)[C@@](O)(O2)C(=O)C(=O)N2CCCC[C@H]2C(=O)O[C@H]([C@H](C)C[C@@H]2CC[C@@H](O)[C@H](OC)C2)CC(=O)[C@H](C)/C=C(\\C)[C@@H](O)[C@@H](OC)C(=O)[C@H](C)C[C@H](C)/C=C/C=C/C=C/1C'                    \n",
      " 25%|██▍       | 225/910 [01:00<03:22,  3.38it/s]"
     ]
    },
    {
     "name": "stdout",
     "output_type": "stream",
     "text": [
      "Heavy processing (14.3s) of 'C=CC[C@@H]1/C=C(\\C)C[C@H](C)C[C@H](OC)[C@H]2O[C@@](O)(C(=O)C(=O)N3CCCC[C@H]3C(=O)O[C@H](/C(C)=C/[C@@H]3CC[C@@H](O)[C@H](OC)C3)[C@H](C)[C@@H](O)CC1=O)[C@H](C)C[C@@H]2OC'                    \n"
     ]
    },
    {
     "name": "stderr",
     "output_type": "stream",
     "text": [
      "Heavy processing (14.3s) of 'C=CC[C@@H]1/C=C(\\C)C[C@H](C)C[C@H](OC)[C@H]2O[C@@](O)(C(=O)C(=O)N3CCCC[C@H]3C(=O)O[C@H](/C(C)=C/[C@@H]3CC[C@@H](O)[C@H](OC)C3)[C@H](C)[C@@H](O)CC1=O)[C@H](C)C[C@@H]2OC'                    \n",
      " 47%|████▋     | 426/910 [02:14<01:57,  4.13it/s]"
     ]
    },
    {
     "name": "stdout",
     "output_type": "stream",
     "text": [
      "Heavy processing (208.3s) of 'CC1=C[C@@H]2O[C@@H]3[C@@H](O)C[C@](C)([C@]34CO4)[C@]2(CO)[C@@H](O)C1=O'                    \n"
     ]
    },
    {
     "name": "stderr",
     "output_type": "stream",
     "text": [
      "Heavy processing (208.3s) of 'CC1=C[C@@H]2O[C@@H]3[C@@H](O)C[C@](C)([C@]34CO4)[C@]2(CO)[C@@H](O)C1=O'                    \n",
      " 58%|█████▊    | 529/910 [06:04<01:50,  3.45it/s]  "
     ]
    },
    {
     "name": "stdout",
     "output_type": "stream",
     "text": [
      "Heavy processing (42.5s) of 'CO[C@H]1C[C@@H]2CC[C@@H](C)[C@@](O)(O2)C(=O)C(=O)N2CCCC3[C@H](C[C@@H]4CC[C@@H](OCCO)[C@H](OC)C4)[C@H](CC(=O)[C@H](C)/C=C(\\C)[C@@H](O)[C@@H](OC)C(=O)[C@H](C)CC[C@H](C)/C=C/C=C/C=C/1C)OC(=O)[C@H]32'                    \n"
     ]
    },
    {
     "name": "stderr",
     "output_type": "stream",
     "text": [
      "Heavy processing (42.5s) of 'CO[C@H]1C[C@@H]2CC[C@@H](C)[C@@](O)(O2)C(=O)C(=O)N2CCCC3[C@H](C[C@@H]4CC[C@@H](OCCO)[C@H](OC)C4)[C@H](CC(=O)[C@H](C)/C=C(\\C)[C@@H](O)[C@@H](OC)C(=O)[C@H](C)CC[C@H](C)/C=C/C=C/C=C/1C)OC(=O)[C@H]32'                    \n",
      " 60%|█████▉    | 542/910 [06:49<04:23,  1.40it/s]  "
     ]
    },
    {
     "name": "stdout",
     "output_type": "stream",
     "text": [
      "Heavy processing (259.4s) of 'CN1[C@@H]2CC[C@@H]1CC(OC(=O)C(CO)c1ccccc1)C2'                    \n"
     ]
    },
    {
     "name": "stderr",
     "output_type": "stream",
     "text": [
      "Heavy processing (259.4s) of 'CN1[C@@H]2CC[C@@H]1CC(OC(=O)C(CO)c1ccccc1)C2'                    \n",
      " 66%|██████▋   | 604/910 [11:36<03:29,  1.46it/s]  "
     ]
    },
    {
     "name": "stdout",
     "output_type": "stream",
     "text": [
      "Heavy processing (419.4s) of 'CN1CC[C@]23C(=O)C[C@@H]4C(=CCO[C@H]5CC(=O)N(c6ccccc62)[C@@H]3[C@@H]54)C1'                    \n"
     ]
    },
    {
     "name": "stderr",
     "output_type": "stream",
     "text": [
      "Heavy processing (419.4s) of 'CN1CC[C@]23C(=O)C[C@@H]4C(=CCO[C@H]5CC(=O)N(c6ccccc62)[C@@H]3[C@@H]54)C1'                    \n",
      " 72%|███████▏  | 657/910 [19:06<00:48,  5.23it/s]    "
     ]
    },
    {
     "name": "stdout",
     "output_type": "stream",
     "text": [
      "Heavy processing (261.7s) of 'CC[C@H]1[C@@H]2C[C@@H]3[C@@H]4N(C)c5ccccc5[C@]45C[C@@H](C2[C@@H]5O)N3[C@@H]1O'                    \n"
     ]
    },
    {
     "name": "stderr",
     "output_type": "stream",
     "text": [
      "Heavy processing (261.7s) of 'CC[C@H]1[C@@H]2C[C@@H]3[C@@H]4N(C)c5ccccc5[C@]45C[C@@H](C2[C@@H]5O)N3[C@@H]1O'                    \n",
      " 99%|█████████▉| 903/910 [23:57<00:02,  3.08it/s]  "
     ]
    }
   ],
   "source": [
    "logger.info(f\"\")\n",
    "logger.info(f\"Starting new procedure ({datetime.datetime.now()})\")\n",
    "\n",
    "if not os.path.exists(\"embeddings\"):\n",
    "    os.mkdir(\"embeddings\")\n",
    "\n",
    "for dataset_module, dataset_name in tdc_datasets:\n",
    "\n",
    "    df, split_idx = load_tdc_dataset(dataset_module, dataset_name)\n",
    "\n",
    "    if not os.path.exists(f\"embeddings/{dataset_name}\"):\n",
    "        os.mkdir(f\"embeddings/{dataset_name}\")\n",
    "\n",
    "    for config, model, featurizer in get_huggingmolecules_processors():\n",
    "\n",
    "        logger.info(f\"Processing {dataset_name} with {config}\")\n",
    "        \n",
    "        smiles = df.copy(deep=True)\n",
    "\n",
    "        if not os.path.isfile(f\"embeddings/{dataset_name}/{config}.zip\"):\n",
    "\n",
    "            start = time.time()\n",
    "\n",
    "            process(smiles, model, featurizer)\n",
    "\n",
    "            smiles.to_csv(\n",
    "                f'embeddings/{dataset_name}/{config}.zip',\n",
    "                compression={\"method\": 'zip', \"archive_name\": f'embeddings.csv'},\n",
    "                index=True\n",
    "            )\n",
    "\n",
    "            logger.info(f\"Processing took {((time.time() - start)/60):.1f}m\")\n",
    "\n",
    "        else:\n",
    "            logger.info(\"✔️\")"
   ]
  },
  {
   "cell_type": "code",
   "execution_count": null,
   "metadata": {},
   "outputs": [],
   "source": []
  }
 ],
 "metadata": {
  "kernelspec": {
   "display_name": "Python 3",
   "language": "python",
   "name": "python3"
  },
  "language_info": {
   "codemirror_mode": {
    "name": "ipython",
    "version": 3
   },
   "file_extension": ".py",
   "mimetype": "text/x-python",
   "name": "python",
   "nbconvert_exporter": "python",
   "pygments_lexer": "ipython3",
   "version": "3.10.13"
  }
 },
 "nbformat": 4,
 "nbformat_minor": 2
}
