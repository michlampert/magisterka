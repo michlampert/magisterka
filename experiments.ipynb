{
 "cells": [
  {
   "cell_type": "code",
   "execution_count": 1,
   "metadata": {},
   "outputs": [],
   "source": [
    "import os\n",
    "\n",
    "os.environ[\"CUDA_VISIBLE_DEVICES\"]=\"\""
   ]
  },
  {
   "cell_type": "code",
   "execution_count": 1,
   "metadata": {},
   "outputs": [],
   "source": [
    "%load_ext autoreload"
   ]
  },
  {
   "cell_type": "code",
   "execution_count": 2,
   "metadata": {},
   "outputs": [],
   "source": [
    "import pandas as pd\n",
    "from tqdm import tqdm\n",
    "import torch\n",
    "import sys\n",
    "import time\n",
    "import datetime\n",
    "from itertools import product\n",
    "import os\n",
    "import numpy as np\n",
    "from sklearn import tree\n",
    "from sklearn import linear_model\n",
    "from sklearn.multioutput import ClassifierChain\n",
    "from sklearn.linear_model import LogisticRegression\n",
    "from sklearn.ensemble import RandomForestClassifier, RandomForestRegressor\n",
    "from sklearn.metrics import mean_squared_error, f1_score\n",
    "import matplotlib.pyplot as plt\n",
    "from functools import partial\n",
    "import shelve\n",
    "import tqdm\n",
    "import pickle\n",
    "from collections import Counter"
   ]
  },
  {
   "cell_type": "code",
   "execution_count": 3,
   "metadata": {},
   "outputs": [
    {
     "name": "stderr",
     "output_type": "stream",
     "text": [
      "/home/michlampert/magisterka/venv/lib64/python3.10/site-packages/tqdm/auto.py:21: TqdmWarning: IProgress not found. Please update jupyter and ipywidgets. See https://ipywidgets.readthedocs.io/en/stable/user_install.html\n",
      "  from .autonotebook import tqdm as notebook_tqdm\n"
     ]
    }
   ],
   "source": [
    "from ogb.graphproppred import Evaluator\n",
    "from tdc.benchmark_group import admet_group"
   ]
  },
  {
   "cell_type": "code",
   "execution_count": 4,
   "metadata": {},
   "outputs": [],
   "source": [
    "%autoreload 2\n",
    "from huggingmolecules import MatConfig, MatFeaturizer, MatModel\n",
    "from huggingmolecules import GroverConfig, GroverFeaturizer, GroverModel\n",
    "from huggingmolecules import RMatConfig, RMatFeaturizer, RMatModel\n",
    "from models import StrippedMatModel, StrippedGroverModel, StrippedRMatModel"
   ]
  },
  {
   "cell_type": "code",
   "execution_count": 17,
   "metadata": {},
   "outputs": [],
   "source": [
    "%autoreload 2\n",
    "from utils import *\n",
    "from datasets import *\n",
    "import predict_procedure as pp\n",
    "import embedding_procedure as ep"
   ]
  },
  {
   "cell_type": "code",
   "execution_count": 6,
   "metadata": {},
   "outputs": [],
   "source": [
    "# from mat import MolecularAttentionTransformer\n",
    "\n",
    "# model = MolecularAttentionTransformer()\n",
    "# model.predict([\"CN1CC[C@]23C(=O)C[C@@H]4C(=CCO[C@H]5CC(=O)N(c6ccccc62)[C@@H]3[C@@H]54)C1\"]) ## tooks 11m 4s (!)"
   ]
  },
  {
   "cell_type": "code",
   "execution_count": 7,
   "metadata": {},
   "outputs": [],
   "source": [
    "# group = admet_group(path = 'data/')\n",
    "# benchmark = group.get(\"CYP2D6_Substrate_CarbonMangels\")\n",
    "\n",
    "# dataset = benchmark[\"test\"]\n",
    "\n",
    "# print(dataset[dataset.Drug == \"CCCCN1CCCC[C@H]1C(=O)Nc1c(C)cccc1C\"].to_markdown())\n",
    "\n",
    "# Output:\n",
    "# |     | smiles                             |   Y |\n",
    "# |----:|:-----------------------------------|----:|\n",
    "# |  58 | CCCCN1CCCC[C@H]1C(=O)Nc1c(C)cccc1C |   1 |\n",
    "# | 226 | CCCCN1CCCC[C@H]1C(=O)Nc1c(C)cccc1C |   0 |else 'regression'"
   ]
  },
  {
   "cell_type": "code",
   "execution_count": 29,
   "metadata": {},
   "outputs": [],
   "source": [
    "import pathlib\n",
    "\n",
    "calculated = set(map(str, pathlib.Path(\"embeddings/\").glob(\"*/*.zip\")))\n",
    "\n",
    "pairs = product(get_dataset_names(), get_embedder_names())\n",
    "\n",
    "with open(\"embedding_params.txt\", \"w\") as f:\n",
    "    for dataset_name, model_name in pairs:\n",
    "        if f\"embeddings/{dataset_name}/{model_name}.zip\" not in calculated:\n",
    "            print(dataset_name, model_name, file=f)\n"
   ]
  },
  {
   "cell_type": "code",
   "execution_count": 28,
   "metadata": {},
   "outputs": [],
   "source": [
    "import pathlib\n",
    "done = set(map(str, pathlib.Path(\"results/\").glob(\"*.pkl\")))\n",
    "\n",
    "pairs = list(product(get_classification_names(), [\"molbert\"]))\n",
    "calculated = list(map(lambda s: tuple(str(s).replace(\".\", \"/\").split(\"/\")[1:-1]), pathlib.Path(\"embeddings/\").glob(\"*/*.zip\")))\n",
    "\n",
    "params = list(product(list(set(pairs) & set(calculated)), [\"forest\"]))\n",
    "\n",
    "\n",
    "with open(\"predict_params.txt\", \"w\") as f:\n",
    "    for (dataset_name, model_name), head_model in params:\n",
    "        if f\"results/{dataset_name}_{model_name}_{head_model}.pkl\" not in done:\n",
    "            print(dataset_name, model_name, head_model, file=f)"
   ]
  },
  {
   "cell_type": "code",
   "execution_count": 22,
   "metadata": {},
   "outputs": [],
   "source": [
    "import pathlib\n",
    "done = set(map(str, pathlib.Path(\"results/\").glob(\"*.pkl\")))\n",
    "\n",
    "pairs = list(product(get_dataset_names(), get_embedder_names()))\n",
    "calculated = list(map(lambda s: tuple(str(s).replace(\".\", \"/\").split(\"/\")[1:-1]), pathlib.Path(\"embeddings/\").glob(\"*/*.zip\")))\n",
    "\n",
    "params = list(product(list(set(pairs) & set(calculated)), [\"ridge\",\"forest\"]))\n",
    "\n",
    "\n",
    "with open(\"predict_params.txt\", \"w\") as f:\n",
    "    for (dataset_name, model_name), head_model in params:\n",
    "        if f\"results/{dataset_name}_{model_name}_{head_model}.pkl\" in done and dataset_name in get_classification_names():\n",
    "            print(dataset_name, model_name, head_model, file=f)"
   ]
  },
  {
   "cell_type": "code",
   "execution_count": 9,
   "metadata": {},
   "outputs": [],
   "source": [
    "from sklearn.preprocessing import StandardScaler\n",
    "from sklearn.linear_model import RidgeClassifierCV, RidgeCV\n",
    "from sklearn.model_selection import GridSearchCV\n",
    "from sklearn.metrics import precision_recall_curve, auc\n",
    "from scipy.stats import spearmanr"
   ]
  },
  {
   "cell_type": "code",
   "execution_count": 1,
   "metadata": {},
   "outputs": [
    {
     "name": "stderr",
     "output_type": "stream",
     "text": [
      "/home/michlampert/magisterka/venv/lib64/python3.10/site-packages/tqdm/auto.py:21: TqdmWarning: IProgress not found. Please update jupyter and ipywidgets. See https://ipywidgets.readthedocs.io/en/stable/user_install.html\n",
      "  from .autonotebook import tqdm as notebook_tqdm\n",
      "INFO: Enabling RDKit 2023.09.2 jupyter extensions\n"
     ]
    }
   ],
   "source": [
    "# %autoreload 2\n",
    "from molbert.utils.featurizer.molbert_featurizer import MolBertFeaturizer"
   ]
  },
  {
   "cell_type": "code",
   "execution_count": 5,
   "metadata": {},
   "outputs": [
    {
     "name": "stdout",
     "output_type": "stream",
     "text": [
      "[[ 0.01830992  0.68017423  0.1749339   0.6642615  -0.9044839   0.01870332\n",
      "   0.53052753 -0.5770635  -0.8666263   0.7877255  -0.96631885  0.31596518\n",
      "  -0.8047818  -0.81636214  0.8461241   0.27794883 -0.81167483  0.98382044\n",
      "   0.89644134 -0.9872448   0.5557583  -0.32108253  0.99881715  0.77729815\n",
      "  -0.9998408  -0.05704741 -0.7614049  -0.9824723  -0.98456764 -0.571822\n",
      "  -0.8900104   0.9240311  -0.6789814   0.08562229  0.9700954   0.9999999\n",
      "   0.9993164   0.7302816   0.05656782 -0.9944156   0.83441573  0.9945194\n",
      "   0.73471826  0.18875341  0.9840119   0.06622697  0.67733127 -0.8711853\n",
      "  -0.5281435  -0.55365396  0.9819772   0.9999999  -0.17995857 -0.9996934\n",
      "   0.99991167 -0.07969973  0.4456461  -0.25901443 -0.9997271   0.78926826\n",
      "  -0.8225252   0.27110764  0.867051    0.8630969  -0.4926715   0.97550327\n",
      "   0.7011665   0.29377896  0.99816567  0.8116637   0.2426363  -0.98791575\n",
      "   0.03659354  0.91715884  0.55181324  0.29384127  0.9935569   0.9819843\n",
      "  -0.99360514 -0.8353609   0.08793898  0.8131436  -0.99623215  0.97780806\n",
      "  -0.25471193 -0.29465827 -0.9006128  -0.26014638  0.8119464   0.9456234\n",
      "  -0.9575744  -0.6482647   0.95985323 -0.26597214  0.99916995  0.34310558\n",
      "  -0.9973146  -0.8783973  -0.5779681  -0.6780543  -1.         -0.43652835\n",
      "  -0.9644233   0.9993558   0.36631903  0.9827311  -0.9921241   0.9348188\n",
      "   0.92091703 -0.24681424 -0.9999928   0.72836    -0.999263    0.9818307\n",
      "  -0.9821187   0.0598253  -0.68290377 -0.00756695  0.17610659  0.9999535\n",
      "  -0.6535766  -0.2571527  -0.7616326   0.97239375 -0.6852189   0.98737645\n",
      "   0.10161274  0.28162488 -0.966624    0.6019275  -0.93534833 -0.55019265\n",
      "  -0.49175656  0.8735018   0.7955269   0.9826894  -0.38642952 -0.69550645\n",
      "   0.6615206  -0.9896156  -0.8759446   0.30276728 -0.611047    0.7799917\n",
      "  -0.9990276   0.22058766 -0.99980104 -0.9001171   0.92875105  0.02103421\n",
      "   0.37616995  0.5220931   0.17341925 -0.51872444  0.9891218   0.7878307\n",
      "   0.16885933 -0.10997787  0.24554466  0.403553   -0.9659284   0.9545528\n",
      "  -0.5633303   0.8001631   0.38261566  0.2788239  -0.71843475  0.10730644\n",
      "  -0.9594991   0.2140997  -0.7945987  -0.28712678 -0.5663453   0.54976255\n",
      "   0.6474242   0.15759218 -0.57322854 -0.89422065 -0.96593714 -0.48705164\n",
      "   0.7539683   0.96468455  0.99975854 -0.8295486  -0.99307066 -0.9999933\n",
      "   0.81532735 -0.10687244 -0.96889037  0.9990685  -0.99976444 -0.4050933\n",
      "  -0.6423273   0.65742433  0.22095156  0.79163074 -0.5983705   0.38113993\n",
      "  -0.1114706   0.550217   -0.8087774  -0.6396304   0.57823455 -0.5518521\n",
      "  -0.36576357  0.67524457 -0.52489233  0.99687046  0.70339274 -0.991409\n",
      "  -0.93262845  0.4854505   0.03957622  0.11844404  0.16408192 -0.4135336\n",
      "   0.83421844 -0.07636882 -0.8519985  -0.9731649   0.9999425   0.99941766\n",
      "  -0.82511723 -0.71353525  0.99098366  0.99619913  0.22100446  0.8423784\n",
      "  -0.0571747  -0.88027316  0.9812929   0.74294615 -0.98916847  0.94599855\n",
      "   0.45128644 -0.9988818   0.18594271  0.67854744 -0.50524074  0.98629457\n",
      "  -0.9599461  -0.9405358  -0.99816036  0.9999983   0.44402093 -0.9346369\n",
      "  -0.7171113   0.979262   -0.9331344   0.78984326  0.9661507   0.9997141\n",
      "   0.32469785 -0.10038457 -0.47394702 -0.7209804  -0.432043    0.41910246\n",
      "   0.02751484 -0.83840585  0.47552776 -0.9969343  -0.765142   -0.81575257\n",
      "   0.9200108  -0.10137445  0.9813183  -0.9862074  -0.29071087 -0.8153759\n",
      "  -0.18520007  0.17015295 -0.36070442  0.83961284  0.99994504 -0.8166088\n",
      "   0.9927647   0.9975141   0.53814906  0.7628711   0.9965745   0.67342657\n",
      "  -0.95064795 -0.997038   -0.8841918   0.99417007  0.9561778  -0.99745524\n",
      "   0.99995035  0.08836082  0.87442905 -0.97415656  0.3915237   0.3498676\n",
      "  -0.06471554 -0.7400333  -0.91038865  1.         -0.9999854  -0.934794\n",
      "  -0.39520478  0.5715707   0.79396373 -0.9254605  -0.7363387   0.5668366\n",
      "  -0.44040498  0.9183692   0.9643815   0.9995393  -0.9999583   0.40034053\n",
      "   0.48780718 -0.8533475  -0.9712015  -0.9197733  -0.9999733  -0.9147992\n",
      "  -0.9699877   0.9898224   0.3611449  -0.97544336  0.9919471  -0.9603811\n",
      "  -0.55049515 -0.9990418   0.8608076  -0.04560177 -0.25238046 -0.27040693\n",
      "   0.9255461   0.4230579  -0.41966984  0.7288715  -0.73532444 -0.9960711\n",
      "  -0.82151026  0.93020236  0.9169478   0.99975747  0.16981846  0.4810932\n",
      "   0.75118065  0.06356476 -0.42249867  0.55790395  0.9766141  -0.84989977\n",
      "   0.9918239  -0.91466933  0.11193231  0.9561022   0.00292744 -0.5568115\n",
      "  -0.05953276  0.8139614   0.9998877  -0.4638325  -0.9964567   0.40619925\n",
      "   0.64826334 -0.12026861 -0.99927944  0.10260737  0.8928139  -0.9461557\n",
      "   0.07756051 -0.9879816  -0.91679734  0.7030641  -0.3219953  -0.4535842\n",
      "   0.361737    0.92494506 -0.99866265  0.9735831  -0.6692415  -0.91079175\n",
      "  -0.8114716   0.998794   -0.05283423 -0.59996814 -0.34129968 -0.99999857\n",
      "  -0.8656465   0.8989804  -0.9014711   0.9878998  -0.09837084  0.59606504\n",
      "  -0.8410016   0.69417113 -0.90905726 -0.9984274  -0.9990791  -0.9997994\n",
      "   0.8949279   0.48873955 -0.98404914  0.04178397  0.8363985  -0.7367109\n",
      "  -0.42035416 -0.15945913  0.4126077  -0.8717499  -0.96926785 -0.86738074\n",
      "   0.9445227   0.04091239 -0.9778921  -0.8593656  -0.34042507 -0.62795097\n",
      "  -0.99926794 -0.99928266  0.4671027  -0.92900026 -0.54043055  0.849235\n",
      "   0.8202628   0.94344157  0.62754565  0.74716663 -0.95188814 -0.5426974\n",
      "  -0.68684226  0.74561673  0.97533625  0.2075993   0.99181014  0.65562886\n",
      "   0.8113664   0.9973202   0.60670686 -0.9336422   0.16205728 -0.08999223\n",
      "   0.8003586  -0.22444518  0.4705286  -0.3985755  -0.992488   -0.964844\n",
      "   0.9690169   0.66654074 -0.9859409  -0.9882946   0.9994254   0.6107492\n",
      "   0.9109971  -0.99388856 -0.9826549   0.9946722   0.60400885 -0.7734246\n",
      "   0.922665    0.99958616 -0.91656375  0.90092766 -0.9632796   0.8108398\n",
      "  -0.9362742   0.9055302   0.9958002   0.9974112  -0.51506263 -0.8647109\n",
      "   0.370375    0.19151163  0.22859766 -0.20437244 -0.16777456  0.9454899\n",
      "  -0.69988143 -0.9703026  -0.66645026  0.9982575  -0.9975479  -0.9987083\n",
      "  -0.9714687   0.374743   -0.7900165  -0.20233843 -0.9999842  -0.10850025\n",
      "  -0.9586658  -0.5362511  -0.9996465  -0.9890569  -0.76081026  0.4214918\n",
      "  -0.29433605 -0.78842217  0.7547837   0.6121918   0.74425596  0.5013547\n",
      "   0.76667833 -0.77689064  0.8212362   0.9271385  -0.9937442  -0.8889726\n",
      "  -0.920495    0.96662647  0.66646415 -0.19224235 -0.7922716  -0.19063072\n",
      "  -0.9171689  -0.9995743   0.29686716  0.6855426   0.48870257 -0.67175126\n",
      "   0.99995923  0.96803945  0.8865083   0.9245824   0.4682038   0.79287595\n",
      "   0.9004815   0.27735847 -0.9920155  -0.5560047   0.9993651   0.9956266\n",
      "   0.93968654  0.9991778  -0.99048954 -0.9918652   0.5390466  -0.4391157\n",
      "   0.49050537 -0.17696387  0.7272914  -0.97773105  0.96182626 -0.99921185\n",
      "  -0.83802557  0.6359267  -0.33265293 -0.9999981   0.47316137 -0.4592322\n",
      "   0.45158532  0.6142989  -0.68985903 -0.987701   -0.7033697   0.92835027\n",
      "  -0.90826815 -0.8019952  -0.804591   -0.65962464  0.9670269  -0.62848306\n",
      "  -0.70963967 -0.38302207  0.88254577 -0.9898955   0.97409874 -0.16917546\n",
      "   1.          0.9791987   0.9929607   0.9722648  -0.8228832   0.7590105\n",
      "   0.83393127  0.95960367 -0.9910784   0.63029605  0.8218645  -0.9858692\n",
      "  -0.31265458 -0.8126555   0.9386776   0.03009319  0.9999992  -0.382996\n",
      "   0.08560285 -0.42498264  0.98234767  0.00241778 -0.96209353  0.94014287\n",
      "   0.9350466   0.76475215  0.6315721   0.948494   -0.9446206   0.7344267\n",
      "  -0.9999995   0.24179628  0.9739333   0.52488035  0.9999187   0.9856737\n",
      "   0.18817207  0.25722575 -0.6885049   0.99697286 -0.9273422  -0.20087275\n",
      "   0.5003681   0.16774906  0.95523363 -0.5837484  -0.8071335  -0.9639832\n",
      "   0.8470706  -0.3005093   0.54979324 -0.9999999  -0.9994845  -0.4851536\n",
      "  -0.9887413   0.7488928   0.8449771  -0.45914516 -0.8482549   0.93961984\n",
      "   0.9635664  -0.8971719   0.33427453 -0.8939256  -0.8902861  -0.9653402\n",
      "   0.98227865 -0.71001244  0.8607628  -0.870889    0.7819814  -0.19483323\n",
      "   0.92438    -0.11469902  0.99913013  0.9997924  -0.477149    0.9605455\n",
      "  -0.99993205  0.98702914  0.8904556   0.9781357  -0.24966705  0.54066366\n",
      "   0.13854642  0.51949614 -0.94470227 -0.9999134  -0.86798173  0.99888843\n",
      "   0.26328322  0.41992936  0.82326335  0.9999938   0.02769426 -0.56943196\n",
      "  -0.85942596  0.2730484   0.9998554   0.53605556 -0.3214013  -0.42805767\n",
      "   0.8572068   0.96904737  0.9991253  -0.99842507  0.9948602   0.21770304\n",
      "   0.9951455  -0.53310734 -0.7931449   0.01423984 -0.85908234  0.77598894\n",
      "  -0.40118596  0.23804604 -0.715029   -0.75350016  0.9145931   0.9996123\n",
      "  -0.9847163  -0.49416488 -0.31914142  0.99989325 -0.09368838 -0.9708668\n",
      "   0.34223965 -0.4608745  -0.8997823   0.9669556  -0.8870104   0.09399955\n",
      "  -0.11769974  0.53429943 -0.98957354 -0.6569956   0.9950193  -0.99283737\n",
      "   0.99997324  0.36435726  0.99811214  0.9040434   0.18647966  0.4481606\n",
      "   0.5026006  -0.9834151   0.9453693   0.999941    0.44980636 -0.4794188\n",
      "  -0.9505752  -0.38872677  0.9782825   0.2806558   0.9637971  -0.06334259\n",
      "   0.93402827  0.07328921 -0.7998721  -0.9806308  -0.99999315 -0.92124045\n",
      "   0.9627024   0.8918503  -0.32459643 -0.99420017  0.7972517  -0.891367\n",
      "   0.34642226  0.817022   -0.5637614   0.8791927  -0.96138996 -0.59091204\n",
      "   0.6050636   0.95015126 -0.87325436  0.48916587 -0.5599401   0.9255645\n",
      "   0.18465884 -0.17788023 -0.9808877   0.9167033  -0.26681432 -0.46669313\n",
      "   0.77300483 -0.3737334  -0.5534709  -0.71301347 -0.5900959   0.9852782\n",
      "  -0.774238    0.90008533 -0.9691218  -1.         -0.5979015   0.99976045\n",
      "  -0.6306456  -0.33046126 -0.9898382  -0.99582803  0.5937655   0.11315101]]\n"
     ]
    }
   ],
   "source": [
    "import torch\n",
    "import numpy as np\n",
    "\n",
    "path_to_checkpoint = './models/molbert_100epochs/molbert_100epochs/checkpoints/last.ckpt'\n",
    "f = MolBertFeaturizer(path_to_checkpoint, device=\"cpu\")\n",
    "\n",
    "with torch.no_grad():\n",
    "    features, masks = f.transform('C')\n",
    "\n",
    "assert all(masks)\n",
    "print(features)"
   ]
  },
  {
   "cell_type": "code",
   "execution_count": 19,
   "metadata": {},
   "outputs": [
    {
     "name": "stderr",
     "output_type": "stream",
     "text": [
      "Found local copy...\n",
      "Loading...\n",
      "Done!\n",
      "Found local copy...\n"
     ]
    },
    {
     "name": "stdout",
     "output_type": "stream",
     "text": [
      "Processing HIA_Hou with molbert\n"
     ]
    },
    {
     "name": "stderr",
     "output_type": "stream",
     "text": [
      "INFO: Processing HIA_Hou with molbert\n",
      "100%|██████████| 10/10 [00:04<00:00,  2.34it/s]"
     ]
    },
    {
     "name": "stdout",
     "output_type": "stream",
     "text": [
      "Processing HIA_Hou with molbert took 0.1m\n"
     ]
    },
    {
     "name": "stderr",
     "output_type": "stream",
     "text": [
      "\n",
      "INFO: Processing HIA_Hou with molbert took 0.1m\n"
     ]
    }
   ],
   "source": [
    "dataset_name, model_name = \"HIA_Hou\", \"molbert\"\n",
    "\n",
    "df, _ = get_dataset(dataset_name)\n",
    "\n",
    "model = get_embedder(model_name)\n",
    "\n",
    "ep.procedure(dataset_name, df, model_name, model, max_samples=10)"
   ]
  },
  {
   "cell_type": "code",
   "execution_count": 20,
   "metadata": {},
   "outputs": [
    {
     "data": {
      "text/plain": [
       "<function utils.get_molbert_embedder.<locals>.process(df)>"
      ]
     },
     "execution_count": 20,
     "metadata": {},
     "output_type": "execute_result"
    }
   ],
   "source": [
    "get_embedder(\"molbert\")"
   ]
  },
  {
   "cell_type": "code",
   "execution_count": 22,
   "metadata": {},
   "outputs": [
    {
     "ename": "FileNotFoundError",
     "evalue": "[Errno 2] No such file or directory: 'embeddings/HIA_Hou/molbert.zip'",
     "output_type": "error",
     "traceback": [
      "\u001b[0;31m---------------------------------------------------------------------------\u001b[0m",
      "\u001b[0;31mFileNotFoundError\u001b[0m                         Traceback (most recent call last)",
      "Cell \u001b[0;32mIn[22], line 1\u001b[0m\n\u001b[0;32m----> 1\u001b[0m \u001b[43mpd\u001b[49m\u001b[38;5;241;43m.\u001b[39;49m\u001b[43mread_pickle\u001b[49m\u001b[43m(\u001b[49m\u001b[38;5;124;43mf\u001b[39;49m\u001b[38;5;124;43m\"\u001b[39;49m\u001b[38;5;124;43membeddings/\u001b[39;49m\u001b[38;5;132;43;01m{\u001b[39;49;00m\u001b[43mdataset_name\u001b[49m\u001b[38;5;132;43;01m}\u001b[39;49;00m\u001b[38;5;124;43m/\u001b[39;49m\u001b[38;5;132;43;01m{\u001b[39;49;00m\u001b[43mmodel_name\u001b[49m\u001b[38;5;132;43;01m}\u001b[39;49;00m\u001b[38;5;124;43m.zip\u001b[39;49m\u001b[38;5;124;43m\"\u001b[39;49m\u001b[43m)\u001b[49m\n",
      "File \u001b[0;32m~/magisterka/venv/lib64/python3.10/site-packages/pandas/io/pickle.py:189\u001b[0m, in \u001b[0;36mread_pickle\u001b[0;34m(filepath_or_buffer, compression, storage_options)\u001b[0m\n\u001b[1;32m    125\u001b[0m \u001b[38;5;250m\u001b[39m\u001b[38;5;124;03m\"\"\"\u001b[39;00m\n\u001b[1;32m    126\u001b[0m \u001b[38;5;124;03mLoad pickled pandas object (or any object) from file.\u001b[39;00m\n\u001b[1;32m    127\u001b[0m \n\u001b[0;32m   (...)\u001b[0m\n\u001b[1;32m    186\u001b[0m \u001b[38;5;124;03m4    4    9\u001b[39;00m\n\u001b[1;32m    187\u001b[0m \u001b[38;5;124;03m\"\"\"\u001b[39;00m\n\u001b[1;32m    188\u001b[0m excs_to_catch \u001b[38;5;241m=\u001b[39m (\u001b[38;5;167;01mAttributeError\u001b[39;00m, \u001b[38;5;167;01mImportError\u001b[39;00m, \u001b[38;5;167;01mModuleNotFoundError\u001b[39;00m, \u001b[38;5;167;01mTypeError\u001b[39;00m)\n\u001b[0;32m--> 189\u001b[0m \u001b[38;5;28;01mwith\u001b[39;00m \u001b[43mget_handle\u001b[49m\u001b[43m(\u001b[49m\n\u001b[1;32m    190\u001b[0m \u001b[43m    \u001b[49m\u001b[43mfilepath_or_buffer\u001b[49m\u001b[43m,\u001b[49m\n\u001b[1;32m    191\u001b[0m \u001b[43m    \u001b[49m\u001b[38;5;124;43m\"\u001b[39;49m\u001b[38;5;124;43mrb\u001b[39;49m\u001b[38;5;124;43m\"\u001b[39;49m\u001b[43m,\u001b[49m\n\u001b[1;32m    192\u001b[0m \u001b[43m    \u001b[49m\u001b[43mcompression\u001b[49m\u001b[38;5;241;43m=\u001b[39;49m\u001b[43mcompression\u001b[49m\u001b[43m,\u001b[49m\n\u001b[1;32m    193\u001b[0m \u001b[43m    \u001b[49m\u001b[43mis_text\u001b[49m\u001b[38;5;241;43m=\u001b[39;49m\u001b[38;5;28;43;01mFalse\u001b[39;49;00m\u001b[43m,\u001b[49m\n\u001b[1;32m    194\u001b[0m \u001b[43m    \u001b[49m\u001b[43mstorage_options\u001b[49m\u001b[38;5;241;43m=\u001b[39;49m\u001b[43mstorage_options\u001b[49m\u001b[43m,\u001b[49m\n\u001b[1;32m    195\u001b[0m \u001b[43m\u001b[49m\u001b[43m)\u001b[49m \u001b[38;5;28;01mas\u001b[39;00m handles:\n\u001b[1;32m    196\u001b[0m     \u001b[38;5;66;03m# 1) try standard library Pickle\u001b[39;00m\n\u001b[1;32m    197\u001b[0m     \u001b[38;5;66;03m# 2) try pickle_compat (older pandas version) to handle subclass changes\u001b[39;00m\n\u001b[1;32m    198\u001b[0m     \u001b[38;5;66;03m# 3) try pickle_compat with latin-1 encoding upon a UnicodeDecodeError\u001b[39;00m\n\u001b[1;32m    200\u001b[0m     \u001b[38;5;28;01mtry\u001b[39;00m:\n\u001b[1;32m    201\u001b[0m         \u001b[38;5;66;03m# TypeError for Cython complaints about object.__new__ vs Tick.__new__\u001b[39;00m\n\u001b[1;32m    202\u001b[0m         \u001b[38;5;28;01mtry\u001b[39;00m:\n",
      "File \u001b[0;32m~/magisterka/venv/lib64/python3.10/site-packages/pandas/io/common.py:784\u001b[0m, in \u001b[0;36mget_handle\u001b[0;34m(path_or_buf, mode, encoding, compression, memory_map, is_text, errors, storage_options)\u001b[0m\n\u001b[1;32m    779\u001b[0m \u001b[38;5;66;03m# ZIP Compression\u001b[39;00m\n\u001b[1;32m    780\u001b[0m \u001b[38;5;28;01melif\u001b[39;00m compression \u001b[38;5;241m==\u001b[39m \u001b[38;5;124m\"\u001b[39m\u001b[38;5;124mzip\u001b[39m\u001b[38;5;124m\"\u001b[39m:\n\u001b[1;32m    781\u001b[0m     \u001b[38;5;66;03m# error: Argument 1 to \"_BytesZipFile\" has incompatible type\u001b[39;00m\n\u001b[1;32m    782\u001b[0m     \u001b[38;5;66;03m# \"Union[str, BaseBuffer]\"; expected \"Union[Union[str, PathLike[str]],\u001b[39;00m\n\u001b[1;32m    783\u001b[0m     \u001b[38;5;66;03m# ReadBuffer[bytes], WriteBuffer[bytes]]\"\u001b[39;00m\n\u001b[0;32m--> 784\u001b[0m     handle \u001b[38;5;241m=\u001b[39m \u001b[43m_BytesZipFile\u001b[49m\u001b[43m(\u001b[49m\n\u001b[1;32m    785\u001b[0m \u001b[43m        \u001b[49m\u001b[43mhandle\u001b[49m\u001b[43m,\u001b[49m\u001b[43m \u001b[49m\u001b[43mioargs\u001b[49m\u001b[38;5;241;43m.\u001b[39;49m\u001b[43mmode\u001b[49m\u001b[43m,\u001b[49m\u001b[43m \u001b[49m\u001b[38;5;241;43m*\u001b[39;49m\u001b[38;5;241;43m*\u001b[39;49m\u001b[43mcompression_args\u001b[49m\u001b[43m  \u001b[49m\u001b[38;5;66;43;03m# type: ignore[arg-type]\u001b[39;49;00m\n\u001b[1;32m    786\u001b[0m \u001b[43m    \u001b[49m\u001b[43m)\u001b[49m\n\u001b[1;32m    787\u001b[0m     \u001b[38;5;28;01mif\u001b[39;00m handle\u001b[38;5;241m.\u001b[39mbuffer\u001b[38;5;241m.\u001b[39mmode \u001b[38;5;241m==\u001b[39m \u001b[38;5;124m\"\u001b[39m\u001b[38;5;124mr\u001b[39m\u001b[38;5;124m\"\u001b[39m:\n\u001b[1;32m    788\u001b[0m         handles\u001b[38;5;241m.\u001b[39mappend(handle)\n",
      "File \u001b[0;32m~/magisterka/venv/lib64/python3.10/site-packages/pandas/io/common.py:1027\u001b[0m, in \u001b[0;36m_BytesZipFile.__init__\u001b[0;34m(self, file, mode, archive_name, **kwargs)\u001b[0m\n\u001b[1;32m   1024\u001b[0m kwargs\u001b[38;5;241m.\u001b[39msetdefault(\u001b[38;5;124m\"\u001b[39m\u001b[38;5;124mcompression\u001b[39m\u001b[38;5;124m\"\u001b[39m, zipfile\u001b[38;5;241m.\u001b[39mZIP_DEFLATED)\n\u001b[1;32m   1025\u001b[0m \u001b[38;5;66;03m# error: Incompatible types in assignment (expression has type \"ZipFile\",\u001b[39;00m\n\u001b[1;32m   1026\u001b[0m \u001b[38;5;66;03m# base class \"_BufferedWriter\" defined the type as \"BytesIO\")\u001b[39;00m\n\u001b[0;32m-> 1027\u001b[0m \u001b[38;5;28mself\u001b[39m\u001b[38;5;241m.\u001b[39mbuffer: zipfile\u001b[38;5;241m.\u001b[39mZipFile \u001b[38;5;241m=\u001b[39m \u001b[43mzipfile\u001b[49m\u001b[38;5;241;43m.\u001b[39;49m\u001b[43mZipFile\u001b[49m\u001b[43m(\u001b[49m\u001b[43m  \u001b[49m\u001b[38;5;66;43;03m# type: ignore[assignment]\u001b[39;49;00m\n\u001b[1;32m   1028\u001b[0m \u001b[43m    \u001b[49m\u001b[43mfile\u001b[49m\u001b[43m,\u001b[49m\u001b[43m \u001b[49m\u001b[43mmode\u001b[49m\u001b[43m,\u001b[49m\u001b[43m \u001b[49m\u001b[38;5;241;43m*\u001b[39;49m\u001b[38;5;241;43m*\u001b[39;49m\u001b[43mkwargs\u001b[49m\n\u001b[1;32m   1029\u001b[0m \u001b[43m\u001b[49m\u001b[43m)\u001b[49m\n",
      "File \u001b[0;32m/usr/lib64/python3.10/zipfile.py:1251\u001b[0m, in \u001b[0;36mZipFile.__init__\u001b[0;34m(self, file, mode, compression, allowZip64, compresslevel, strict_timestamps)\u001b[0m\n\u001b[1;32m   1249\u001b[0m \u001b[38;5;28;01mwhile\u001b[39;00m \u001b[38;5;28;01mTrue\u001b[39;00m:\n\u001b[1;32m   1250\u001b[0m     \u001b[38;5;28;01mtry\u001b[39;00m:\n\u001b[0;32m-> 1251\u001b[0m         \u001b[38;5;28mself\u001b[39m\u001b[38;5;241m.\u001b[39mfp \u001b[38;5;241m=\u001b[39m \u001b[43mio\u001b[49m\u001b[38;5;241;43m.\u001b[39;49m\u001b[43mopen\u001b[49m\u001b[43m(\u001b[49m\u001b[43mfile\u001b[49m\u001b[43m,\u001b[49m\u001b[43m \u001b[49m\u001b[43mfilemode\u001b[49m\u001b[43m)\u001b[49m\n\u001b[1;32m   1252\u001b[0m     \u001b[38;5;28;01mexcept\u001b[39;00m \u001b[38;5;167;01mOSError\u001b[39;00m:\n\u001b[1;32m   1253\u001b[0m         \u001b[38;5;28;01mif\u001b[39;00m filemode \u001b[38;5;129;01min\u001b[39;00m modeDict:\n",
      "\u001b[0;31mFileNotFoundError\u001b[0m: [Errno 2] No such file or directory: 'embeddings/HIA_Hou/molbert.zip'"
     ]
    }
   ],
   "source": [
    "pd.read_pickle(f\"embeddings/{dataset_name}/{model_name}.zip\")"
   ]
  },
  {
   "cell_type": "code",
   "execution_count": 46,
   "metadata": {},
   "outputs": [
    {
     "ename": "ImportError",
     "evalue": "cannot import name 'DglPCQM4MDataset' from 'ogb.lsc' (/home/michlampert/magisterka/venv/lib64/python3.10/site-packages/ogb/lsc/__init__.py)",
     "output_type": "error",
     "traceback": [
      "\u001b[0;31m---------------------------------------------------------------------------\u001b[0m",
      "\u001b[0;31mImportError\u001b[0m                               Traceback (most recent call last)",
      "Cell \u001b[0;32mIn[46], line 1\u001b[0m\n\u001b[0;32m----> 1\u001b[0m \u001b[38;5;28;01mimport\u001b[39;00m \u001b[38;5;21;01mthreeDInfomax\u001b[39;00m\u001b[38;5;21;01m.\u001b[39;00m\u001b[38;5;21;01minference\u001b[39;00m\n",
      "File \u001b[0;32m~/magisterka/threeDInfomax/inference.py:36\u001b[0m\n\u001b[1;32m     11\u001b[0m \u001b[38;5;28;01mfrom\u001b[39;00m \u001b[38;5;21;01m.\u001b[39;00m\u001b[38;5;21;01mcommons\u001b[39;00m\u001b[38;5;21;01m.\u001b[39;00m\u001b[38;5;21;01mutils\u001b[39;00m \u001b[38;5;28;01mimport\u001b[39;00m seed_all, get_random_indices, TENSORBOARD_FUNCTIONS, move_to_device\n\u001b[1;32m     12\u001b[0m \u001b[38;5;66;03m# from .datasets.ZINC_dataset import ZINCDataset\u001b[39;00m\n\u001b[1;32m     13\u001b[0m \u001b[38;5;66;03m# from .datasets.bace_geomol_feat import BACEGeomol\u001b[39;00m\n\u001b[1;32m     14\u001b[0m \u001b[38;5;66;03m# from .datasets.bace_geomol_featurization_of_qm9 import BACEGeomolQM9Featurization\u001b[39;00m\n\u001b[0;32m   (...)\u001b[0m\n\u001b[1;32m     34\u001b[0m \u001b[38;5;66;03m# from .datasets.qmugs_dataset import QMugsDataset\u001b[39;00m\n\u001b[1;32m     35\u001b[0m \u001b[38;5;66;03m# from .models.geomol_mpnn import GeomolGNNWrapper\u001b[39;00m\n\u001b[0;32m---> 36\u001b[0m \u001b[38;5;28;01mfrom\u001b[39;00m \u001b[38;5;21;01m.\u001b[39;00m\u001b[38;5;21;01mtrain\u001b[39;00m \u001b[38;5;28;01mimport\u001b[39;00m load_model\n\u001b[1;32m     37\u001b[0m \u001b[38;5;28;01mfrom\u001b[39;00m \u001b[38;5;21;01m.\u001b[39;00m\u001b[38;5;21;01mtrainer\u001b[39;00m\u001b[38;5;21;01m.\u001b[39;00m\u001b[38;5;21;01mbyol_trainer\u001b[39;00m \u001b[38;5;28;01mimport\u001b[39;00m BYOLTrainer\n\u001b[1;32m     38\u001b[0m \u001b[38;5;28;01mfrom\u001b[39;00m \u001b[38;5;21;01m.\u001b[39;00m\u001b[38;5;21;01mtrainer\u001b[39;00m\u001b[38;5;21;01m.\u001b[39;00m\u001b[38;5;21;01mbyol_wrapper\u001b[39;00m \u001b[38;5;28;01mimport\u001b[39;00m BYOLwrapper\n",
      "File \u001b[0;32m~/magisterka/threeDInfomax/train.py:8\u001b[0m\n\u001b[1;32m      5\u001b[0m \u001b[38;5;28;01mimport\u001b[39;00m \u001b[38;5;21;01mre\u001b[39;00m\n\u001b[1;32m      7\u001b[0m \u001b[38;5;28;01mfrom\u001b[39;00m \u001b[38;5;21;01micecream\u001b[39;00m \u001b[38;5;28;01mimport\u001b[39;00m install\n\u001b[0;32m----> 8\u001b[0m \u001b[38;5;28;01mfrom\u001b[39;00m \u001b[38;5;21;01mogb\u001b[39;00m\u001b[38;5;21;01m.\u001b[39;00m\u001b[38;5;21;01mlsc\u001b[39;00m \u001b[38;5;28;01mimport\u001b[39;00m DglPCQM4MDataset, PCQM4MEvaluator\n\u001b[1;32m      9\u001b[0m \u001b[38;5;28;01mfrom\u001b[39;00m \u001b[38;5;21;01mogb\u001b[39;00m\u001b[38;5;21;01m.\u001b[39;00m\u001b[38;5;21;01mutils\u001b[39;00m \u001b[38;5;28;01mimport\u001b[39;00m smiles2graph\n\u001b[1;32m     11\u001b[0m \u001b[38;5;28;01mfrom\u001b[39;00m \u001b[38;5;21;01mcommons\u001b[39;00m\u001b[38;5;21;01m.\u001b[39;00m\u001b[38;5;21;01mutils\u001b[39;00m \u001b[38;5;28;01mimport\u001b[39;00m seed_all, get_random_indices, TENSORBOARD_FUNCTIONS\n",
      "\u001b[0;31mImportError\u001b[0m: cannot import name 'DglPCQM4MDataset' from 'ogb.lsc' (/home/michlampert/magisterka/venv/lib64/python3.10/site-packages/ogb/lsc/__init__.py)"
     ]
    }
   ],
   "source": [
    "import threeDInfomax.inference"
   ]
  },
  {
   "cell_type": "code",
   "execution_count": 36,
   "metadata": {},
   "outputs": [
    {
     "ename": "ImportError",
     "evalue": "cannot import name 'DglPCQM4MDataset' from 'ogb.lsc' (/home/michlampert/magisterka/venv/lib64/python3.10/site-packages/ogb/lsc/__init__.py)",
     "output_type": "error",
     "traceback": [
      "\u001b[0;31m---------------------------------------------------------------------------\u001b[0m",
      "\u001b[0;31mImportError\u001b[0m                               Traceback (most recent call last)",
      "Cell \u001b[0;32mIn[36], line 1\u001b[0m\n\u001b[0;32m----> 1\u001b[0m \u001b[38;5;28;01mfrom\u001b[39;00m \u001b[38;5;21;01mthreeDInfomax\u001b[39;00m\u001b[38;5;21;01m.\u001b[39;00m\u001b[38;5;21;01mtrain\u001b[39;00m \u001b[38;5;28;01mimport\u001b[39;00m load_model\n\u001b[1;32m      3\u001b[0m model, _,_ \u001b[38;5;241m=\u001b[39m load_model(args, data\u001b[38;5;241m=\u001b[39mtest_data, device\u001b[38;5;241m=\u001b[39mdevice)\n\u001b[1;32m      4\u001b[0m checkpoint \u001b[38;5;241m=\u001b[39m torch\u001b[38;5;241m.\u001b[39mload(args\u001b[38;5;241m.\u001b[39mcheckpoint, map_location\u001b[38;5;241m=\u001b[39mdevice)\n",
      "File \u001b[0;32m~/magisterka/threeDInfomax/train.py:8\u001b[0m\n\u001b[1;32m      5\u001b[0m \u001b[38;5;28;01mimport\u001b[39;00m \u001b[38;5;21;01mre\u001b[39;00m\n\u001b[1;32m      7\u001b[0m \u001b[38;5;28;01mfrom\u001b[39;00m \u001b[38;5;21;01micecream\u001b[39;00m \u001b[38;5;28;01mimport\u001b[39;00m install\n\u001b[0;32m----> 8\u001b[0m \u001b[38;5;28;01mfrom\u001b[39;00m \u001b[38;5;21;01mogb\u001b[39;00m\u001b[38;5;21;01m.\u001b[39;00m\u001b[38;5;21;01mlsc\u001b[39;00m \u001b[38;5;28;01mimport\u001b[39;00m DglPCQM4MDataset, PCQM4MEvaluator\n\u001b[1;32m      9\u001b[0m \u001b[38;5;28;01mfrom\u001b[39;00m \u001b[38;5;21;01mogb\u001b[39;00m\u001b[38;5;21;01m.\u001b[39;00m\u001b[38;5;21;01mutils\u001b[39;00m \u001b[38;5;28;01mimport\u001b[39;00m smiles2graph\n\u001b[1;32m     11\u001b[0m \u001b[38;5;28;01mfrom\u001b[39;00m \u001b[38;5;21;01mcommons\u001b[39;00m\u001b[38;5;21;01m.\u001b[39;00m\u001b[38;5;21;01mutils\u001b[39;00m \u001b[38;5;28;01mimport\u001b[39;00m seed_all, get_random_indices, TENSORBOARD_FUNCTIONS\n",
      "\u001b[0;31mImportError\u001b[0m: cannot import name 'DglPCQM4MDataset' from 'ogb.lsc' (/home/michlampert/magisterka/venv/lib64/python3.10/site-packages/ogb/lsc/__init__.py)"
     ]
    }
   ],
   "source": [
    "\n",
    "from threeDInfomax.train import load_model\n",
    "\n",
    "model, _,_ = load_model(args, data=test_data, device=device)\n",
    "checkpoint = torch.load(args.checkpoint, map_location=device)\n",
    "model.load_state_dict(checkpoint['model_state_dict'])\n",
    "model([\"C\"])"
   ]
  },
  {
   "cell_type": "code",
   "execution_count": null,
   "metadata": {},
   "outputs": [],
   "source": []
  }
 ],
 "metadata": {
  "kernelspec": {
   "display_name": "Python 3",
   "language": "python",
   "name": "python3"
  },
  "language_info": {
   "codemirror_mode": {
    "name": "ipython",
    "version": 3
   },
   "file_extension": ".py",
   "mimetype": "text/x-python",
   "name": "python",
   "nbconvert_exporter": "python",
   "pygments_lexer": "ipython3",
   "version": "3.10.13"
  }
 },
 "nbformat": 4,
 "nbformat_minor": 2
}
