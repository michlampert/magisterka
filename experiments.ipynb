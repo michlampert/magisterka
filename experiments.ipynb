{
 "cells": [
  {
   "cell_type": "code",
   "execution_count": 1,
   "metadata": {},
   "outputs": [],
   "source": [
    "import os\n",
    "\n",
    "os.environ[\"CUDA_VISIBLE_DEVICES\"]=\"\""
   ]
  },
  {
   "cell_type": "code",
   "execution_count": 1,
   "metadata": {},
   "outputs": [],
   "source": [
    "%load_ext autoreload"
   ]
  },
  {
   "cell_type": "code",
   "execution_count": 25,
   "metadata": {},
   "outputs": [],
   "source": [
    "import pandas as pd\n",
    "from tqdm import tqdm\n",
    "import torch\n",
    "import os\n",
    "import numpy as np\n",
    "from itertools import product"
   ]
  },
  {
   "cell_type": "code",
   "execution_count": 3,
   "metadata": {},
   "outputs": [],
   "source": [
    "%autoreload 2\n",
    "from huggingmolecules import MatConfig, MatFeaturizer, MatModel\n",
    "from huggingmolecules import GroverConfig, GroverFeaturizer, GroverModel\n",
    "from huggingmolecules import RMatConfig, RMatFeaturizer, RMatModel\n",
    "from models import StrippedMatModel, StrippedGroverModel, StrippedRMatModel"
   ]
  },
  {
   "cell_type": "code",
   "execution_count": 19,
   "metadata": {},
   "outputs": [],
   "source": [
    "%autoreload 2\n",
    "from utils import *\n",
    "from datasets import *\n",
    "import predict_procedure as pp\n",
    "import embedding_procedure as ep"
   ]
  },
  {
   "cell_type": "code",
   "execution_count": 36,
   "metadata": {},
   "outputs": [
    {
     "name": "stderr",
     "output_type": "stream",
     "text": [
      "No normalization for SPS. Feature removed!\n",
      "No normalization for AvgIpc. Feature removed!\n",
      "Skipped loading some Tensorflow models, missing a dependency. No module named 'tensorflow'\n",
      "wandb: WARNING W&B installed but not logged in.  Run `wandb login` or set the WANDB_API_KEY env variable.\n",
      "Skipped loading modules with pytorch-lightning dependency, missing a dependency. No module named 'lightning'\n",
      "Skipped loading some Jax models, missing a dependency. No module named 'jax'\n",
      "Skipped loading some PyTorch models, missing a dependency. No module named 'tensorflow'\n",
      "Found local copy...\n",
      "Loading...\n",
      "Done!\n",
      "Found local copy...\n"
     ]
    },
    {
     "name": "stdout",
     "output_type": "stream",
     "text": [
      "Processing HIA_Hou with Transformer-M\n"
     ]
    },
    {
     "name": "stderr",
     "output_type": "stream",
     "text": [
      "INFO: Processing HIA_Hou with Transformer-M\n",
      "100%|██████████| 10/10 [00:00<00:00, 76.12it/s]\n"
     ]
    },
    {
     "name": "stdout",
     "output_type": "stream",
     "text": [
      "Processing HIA_Hou with Transformer-M took 0.0m\n"
     ]
    },
    {
     "name": "stderr",
     "output_type": "stream",
     "text": [
      "INFO: Processing HIA_Hou with Transformer-M took 0.0m\n"
     ]
    }
   ],
   "source": [
    "%%bash\n",
    "\n",
    "python embedding_procedure.py \\\n",
    "    --model_name Transformer-M \\\n",
    "    --dataset_name HIA_Hou \\\n",
    "    --max_samples 10"
   ]
  },
  {
   "cell_type": "code",
   "execution_count": 34,
   "metadata": {},
   "outputs": [
    {
     "data": {
      "text/plain": [
       "tensor([-0.0029, -0.0147, -0.0151,  0.0026, -0.0331,  0.0073, -0.0352,  0.0092,\n",
       "        -0.0042,  0.0150, -0.0350, -0.0230,  0.0463, -0.0163,  0.0155,  0.0019,\n",
       "         0.0145,  0.0257,  0.0089, -0.0323, -0.0041, -0.0025,  0.0642,  0.0287,\n",
       "         0.0246, -0.0088, -0.0383, -0.0108,  0.0408, -0.0138,  0.0043,  0.0070,\n",
       "        -0.0169, -0.0293,  0.1852,  0.0073, -0.0061,  0.0393,  0.0030,  0.0558,\n",
       "        -0.0250, -0.0234,  0.0035, -0.0035,  0.0266,  0.0227,  0.0206, -0.0100,\n",
       "        -0.0263, -0.0398,  0.0046, -0.0135,  0.0093,  0.0095, -0.0247,  0.0339,\n",
       "         0.0071, -0.0428, -0.0430,  0.0510, -0.0017, -0.0209, -0.0076, -0.0144,\n",
       "         0.0274,  0.0279,  0.0129,  0.0085, -0.0046, -0.0519,  0.0194, -0.0037,\n",
       "        -0.0019, -0.0279,  0.0120,  0.0317, -0.0032,  0.0082, -0.0108, -0.0141,\n",
       "        -0.0038, -0.0087,  0.0019, -0.0279,  0.0246,  0.0370, -0.0394,  0.0140,\n",
       "        -0.0148, -0.0485, -0.0155, -0.0277,  0.0066,  0.0097,  0.0304, -0.0374,\n",
       "        -0.0092, -0.0368, -0.0029, -0.0022, -0.0006, -0.0122,  0.0071,  0.0050,\n",
       "        -0.0100,  0.1702,  0.0029,  0.0234, -0.0196,  0.0045,  0.0135, -0.0582,\n",
       "         0.0249, -0.0456,  0.0412, -0.0151, -0.0040, -0.0182,  0.0052,  0.0034,\n",
       "         0.0090, -0.0139,  0.0112, -0.0017,  0.0073,  0.0077,  0.0174, -0.0148,\n",
       "        -0.0026,  0.0060,  0.0074,  0.0003,  0.0071, -0.0367, -0.0242, -0.0061,\n",
       "         0.0129, -0.0468,  0.0003, -0.0080, -0.0022,  0.0298, -0.0103,  0.0446,\n",
       "         0.0470, -0.0353, -0.0113, -0.0097, -0.0126, -0.0065, -0.0158, -0.0073,\n",
       "         0.0235, -0.0476,  0.0283,  0.0070, -0.0281, -0.0027,  0.0067, -0.0244,\n",
       "         0.0044,  0.0105, -0.0063,  0.0008, -0.0049, -0.0105, -0.0207, -0.0226,\n",
       "        -0.0217, -0.0192,  0.0065,  0.0112,  0.0074,  0.0184, -0.0507,  0.0202,\n",
       "         0.0347, -0.0056, -0.0057,  0.0266,  0.0295,  0.0216, -0.0164,  0.0017,\n",
       "         0.0076, -0.0246, -0.0065, -0.0237,  0.0305, -0.0099,  0.0172, -0.0016,\n",
       "         0.0391, -0.0146,  0.0205,  0.0189, -0.0229, -0.0116,  0.0156, -0.0106,\n",
       "         0.0226,  0.0232, -0.0423,  0.0176,  0.0039, -0.0240, -0.0315, -0.0083,\n",
       "         0.0046, -0.0273,  0.0226,  0.0168, -0.0052, -0.0091,  0.0247,  0.0003,\n",
       "         0.0053,  0.0208, -0.0045, -0.0124,  0.0037,  0.0141, -0.0145,  0.0194,\n",
       "         0.0142, -0.0043, -0.0147, -0.0134, -0.0176, -0.0059,  0.0004, -0.0013,\n",
       "        -0.0321,  0.0269,  0.0481, -0.0313,  0.0207,  0.0005,  0.0049,  0.0081,\n",
       "        -0.0081,  0.0389,  0.0172,  0.0297, -0.0100, -0.0066, -0.0078, -0.0075,\n",
       "        -0.0062, -0.0177, -0.0148,  0.0345, -0.0266,  0.0104,  0.0145, -0.0073,\n",
       "         0.0004,  0.0147,  0.0116, -0.0258,  0.0014, -0.0242,  0.1799,  0.0186,\n",
       "         0.0251, -0.0197, -0.0136, -0.0221,  0.0261, -0.0026,  0.0028, -0.0055,\n",
       "         0.0266, -0.0078,  0.0196,  0.0060, -0.0269,  0.0012, -0.0379, -0.0560,\n",
       "         0.0032, -0.0192,  0.0160,  0.0027,  0.0264,  0.0139,  0.0111,  0.0379,\n",
       "        -0.0075, -0.0306,  0.0177, -0.0102,  0.0591,  0.0064,  0.0179, -0.0182,\n",
       "         0.0183,  0.0137,  0.0058,  0.0039])"
      ]
     },
     "execution_count": 34,
     "metadata": {},
     "output_type": "execute_result"
    }
   ],
   "source": [
    "pd.read_pickle(\"embeddings/HIA_Hou/Transformer-M.zip\").embeddings[92]"
   ]
  },
  {
   "cell_type": "code",
   "execution_count": 6,
   "metadata": {},
   "outputs": [],
   "source": [
    "# from mat import MolecularAttentionTransformer\n",
    "\n",
    "# model = MolecularAttentionTransformer()\n",
    "# model.predict([\"CN1CC[C@]23C(=O)C[C@@H]4C(=CCO[C@H]5CC(=O)N(c6ccccc62)[C@@H]3[C@@H]54)C1\"]) ## tooks 11m 4s (!)"
   ]
  },
  {
   "cell_type": "code",
   "execution_count": 7,
   "metadata": {},
   "outputs": [],
   "source": [
    "# group = admet_group(path = 'data/')\n",
    "# benchmark = group.get(\"CYP2D6_Substrate_CarbonMangels\")\n",
    "\n",
    "# dataset = benchmark[\"test\"]\n",
    "\n",
    "# print(dataset[dataset.Drug == \"CCCCN1CCCC[C@H]1C(=O)Nc1c(C)cccc1C\"].to_markdown())\n",
    "\n",
    "# Output:\n",
    "# |     | smiles                             |   Y |\n",
    "# |----:|:-----------------------------------|----:|\n",
    "# |  58 | CCCCN1CCCC[C@H]1C(=O)Nc1c(C)cccc1C |   1 |\n",
    "# | 226 | CCCCN1CCCC[C@H]1C(=O)Nc1c(C)cccc1C |   0 |else 'regression'"
   ]
  },
  {
   "cell_type": "code",
   "execution_count": 37,
   "metadata": {},
   "outputs": [],
   "source": [
    "import pathlib\n",
    "\n",
    "calculated = set(map(str, pathlib.Path(\"embeddings/\").glob(\"*/*.zip\")))\n",
    "\n",
    "pairs = product(get_dataset_names(), [\"Transformer-M\"])\n",
    "\n",
    "with open(\"embedding_params.txt\", \"w\") as f:\n",
    "    for dataset_name, model_name in pairs:\n",
    "        if f\"embeddings/{dataset_name}/{model_name}.zip\" not in calculated:\n",
    "            print(dataset_name, model_name, file=f)\n"
   ]
  },
  {
   "cell_type": "code",
   "execution_count": 41,
   "metadata": {},
   "outputs": [],
   "source": [
    "import pathlib\n",
    "\n",
    "with open(\"predict_params.txt\", \"w\") as f:\n",
    "\n",
    "    done = set(map(str, pathlib.Path(\"results/\").glob(\"*.pkl\")))\n",
    "\n",
    "    pairs = list(product(get_regression_names(), [\"Transformer-M\"]))\n",
    "    calculated = list(map(lambda s: tuple(str(s).replace(\".\", \"/\").split(\"/\")[1:-1]), pathlib.Path(\"embeddings/\").glob(\"*/*.zip\")))\n",
    "\n",
    "    params = list(product(list(set(pairs)), [\"linear\", \"forest\", \"ridge\"]))\n",
    "\n",
    "\n",
    "    for (dataset_name, model_name), head_model in params:\n",
    "        if f\"results/{dataset_name}_{model_name}_{head_model}.pkl\" not in done:\n",
    "            print(dataset_name, model_name, head_model, file=f)\n",
    "\n",
    "    pairs = list(product(get_classification_names(), [\"Transformer-M\"]))\n",
    "    calculated = list(map(lambda s: tuple(str(s).replace(\".\", \"/\").split(\"/\")[1:-1]), pathlib.Path(\"embeddings/\").glob(\"*/*.zip\")))\n",
    "\n",
    "    params = list(product(list(set(pairs)), [\"linear\", \"forest\"]))\n",
    "\n",
    "\n",
    "    for (dataset_name, model_name), head_model in params:\n",
    "        if f\"results/{dataset_name}_{model_name}_{head_model}.pkl\" not in done:\n",
    "            print(dataset_name, model_name, head_model, file=f)\n",
    "            "
   ]
  },
  {
   "cell_type": "code",
   "execution_count": 36,
   "metadata": {},
   "outputs": [],
   "source": [
    "import pathlib\n",
    "done = set(map(str, pathlib.Path(\"results/\").glob(\"*.pkl\")))\n",
    "\n",
    "pairs = list(product(get_dataset_names(), get_embedder_names()))\n",
    "calculated = list(map(lambda s: tuple(str(s).replace(\".\", \"/\").split(\"/\")[1:-1]), pathlib.Path(\"embeddings/\").glob(\"*/*.zip\")))\n",
    "\n",
    "params = list(product(list(set(pairs) & set(calculated)), [\"ridge\",\"forest\"]))\n",
    "\n",
    "\n",
    "with open(\"predict_params.txt\", \"w\") as f:\n",
    "    for (dataset_name, model_name), head_model in params:\n",
    "        if f\"results/{dataset_name}_{model_name}_{head_model}.pkl\" in done and dataset_name in get_classification_names():\n",
    "            print(dataset_name, model_name, head_model, file=f)"
   ]
  },
  {
   "cell_type": "code",
   "execution_count": null,
   "metadata": {},
   "outputs": [],
   "source": [
    "with open(\"selformer_params.txt\", \"w\") as f:\n",
    "    for dataset_name in get_dataset_names():\n",
    "        if len(get_dataset(dataset_name)[0]) < 10000:\n",
    "            f.write(f\"{dataset_name}\\n\")\n",
    "    "
   ]
  },
  {
   "cell_type": "code",
   "execution_count": 68,
   "metadata": {},
   "outputs": [
    {
     "data": {
      "text/plain": [
       "tensor([[1., 0., 0., 0., 0., 0., 0., 0., 0., 0., 0., 0., 0., 0., 0., 0., 0., 0.,\n",
       "         0., 0., 0., 0., 0., 1., 0., 0., 0., 0., 0., 0., 0., 0., 0., 1., 1., 0.,\n",
       "         0., 0., 0.]])"
      ]
     },
     "execution_count": 68,
     "metadata": {},
     "output_type": "execute_result"
    }
   ],
   "source": [
    "from tdc.chem_utils import MolConvert\n",
    "converter = MolConvert(src = 'SMILES', dst = 'PyG')\n",
    "converter('C').x\n",
    "# Data(edge_index=[2, 68], edge_attr=[68, 3], x=[32, 9], y=[1, 1], num_nodes=32)"
   ]
  },
  {
   "cell_type": "code",
   "execution_count": 69,
   "metadata": {},
   "outputs": [
    {
     "data": {
      "text/plain": [
       "{'edge_index': array([], shape=(2, 0), dtype=int64),\n",
       " 'edge_feat': array([], shape=(0, 3), dtype=int64),\n",
       " 'node_feat': array([[5, 0, 4, 5, 4, 0, 2, 0, 0]]),\n",
       " 'num_nodes': 1,\n",
       " 'x': tensor([[1., 0., 0., 0., 0., 0., 0., 0., 0., 0., 0., 0., 0., 0., 0., 0., 0., 0.,\n",
       "          0., 0., 0., 0., 0., 1., 0., 0., 0., 0., 0., 0., 0., 0., 0., 1., 1., 0.,\n",
       "          0., 0., 0.]]),\n",
       " 'y': array([0])}"
      ]
     },
     "execution_count": 69,
     "metadata": {},
     "output_type": "execute_result"
    }
   ],
   "source": [
    "from ogb.utils import smiles2graph\n",
    "{**smiles2graph('C'), \"x\": converter('C').x, \"y\": np.array([0])}"
   ]
  },
  {
   "cell_type": "code",
   "execution_count": 64,
   "metadata": {},
   "outputs": [
    {
     "name": "stderr",
     "output_type": "stream",
     "text": [
      "Found local copy...\n",
      "Loading...\n",
      "Done!\n",
      "Found local copy...\n"
     ]
    },
    {
     "data": {
      "text/html": [
       "<div>\n",
       "<style scoped>\n",
       "    .dataframe tbody tr th:only-of-type {\n",
       "        vertical-align: middle;\n",
       "    }\n",
       "\n",
       "    .dataframe tbody tr th {\n",
       "        vertical-align: top;\n",
       "    }\n",
       "\n",
       "    .dataframe thead th {\n",
       "        text-align: right;\n",
       "    }\n",
       "</style>\n",
       "<table border=\"1\" class=\"dataframe\">\n",
       "  <thead>\n",
       "    <tr style=\"text-align: right;\">\n",
       "      <th></th>\n",
       "      <th>smiles</th>\n",
       "      <th>Y</th>\n",
       "      <th>graph</th>\n",
       "    </tr>\n",
       "  </thead>\n",
       "  <tbody>\n",
       "    <tr>\n",
       "      <th>0</th>\n",
       "      <td>CC(=O)Nc1ccccc1</td>\n",
       "      <td>1</td>\n",
       "      <td>{'edge_index': [[0, 1, 1, 2, 1, 3, 3, 4, 4, 5,...</td>\n",
       "    </tr>\n",
       "    <tr>\n",
       "      <th>1</th>\n",
       "      <td>CC(=O)Nc1nnc(S(N)(=O)=O)s1</td>\n",
       "      <td>1</td>\n",
       "      <td>{'edge_index': [[0, 1, 1, 2, 1, 3, 3, 4, 4, 5,...</td>\n",
       "    </tr>\n",
       "    <tr>\n",
       "      <th>2</th>\n",
       "      <td>Cc1c(N(C)C)c(=N)n(-c2ccccc2)n1C</td>\n",
       "      <td>1</td>\n",
       "      <td>{'edge_index': [[0, 1, 1, 2, 2, 3, 3, 4, 3, 5,...</td>\n",
       "    </tr>\n",
       "    <tr>\n",
       "      <th>3</th>\n",
       "      <td>COc1ccccc1OCCNC[C@@H](O)c1ccc(C)cc1S(N)(=O)=O</td>\n",
       "      <td>1</td>\n",
       "      <td>{'edge_index': [[0, 1, 1, 2, 2, 3, 3, 4, 4, 5,...</td>\n",
       "    </tr>\n",
       "    <tr>\n",
       "      <th>4</th>\n",
       "      <td>NS(=O)(=O)c1cc2c(cc1C(F)(F)F)N[C@H](Cc1ccccc1)...</td>\n",
       "      <td>1</td>\n",
       "      <td>{'edge_index': [[0, 1, 1, 2, 1, 3, 1, 4, 4, 5,...</td>\n",
       "    </tr>\n",
       "    <tr>\n",
       "      <th>...</th>\n",
       "      <td>...</td>\n",
       "      <td>...</td>\n",
       "      <td>...</td>\n",
       "    </tr>\n",
       "    <tr>\n",
       "      <th>573</th>\n",
       "      <td>CC(=CCO)/C=C/C=C(C)\\C=C\\C1=C(C)CCCC1(C)C</td>\n",
       "      <td>1</td>\n",
       "      <td>{'edge_index': [[0, 1, 1, 2, 2, 3, 3, 4, 1, 5,...</td>\n",
       "    </tr>\n",
       "    <tr>\n",
       "      <th>574</th>\n",
       "      <td>CCN(CC)[C@H](C)C(=O)c1ccccc1</td>\n",
       "      <td>1</td>\n",
       "      <td>{'edge_index': [[0, 1, 1, 2, 2, 3, 3, 4, 2, 5,...</td>\n",
       "    </tr>\n",
       "    <tr>\n",
       "      <th>575</th>\n",
       "      <td>OC[C@@H]1O[C@@H](OC[C@@H]2O[C@@H](O[C@]3(CO)O[...</td>\n",
       "      <td>0</td>\n",
       "      <td>{'edge_index': [[0, 1, 1, 2, 2, 3, 3, 4, 4, 5,...</td>\n",
       "    </tr>\n",
       "    <tr>\n",
       "      <th>576</th>\n",
       "      <td>COC(=O)C1=C(C#N)NC(C)=C(C(=O)OC(C)C)[C@H]1c1cc...</td>\n",
       "      <td>1</td>\n",
       "      <td>{'edge_index': [[0, 1, 1, 2, 2, 3, 2, 4, 4, 5,...</td>\n",
       "    </tr>\n",
       "    <tr>\n",
       "      <th>577</th>\n",
       "      <td>Nc1cc(-c2ccncc2)c[nH]c1=O</td>\n",
       "      <td>1</td>\n",
       "      <td>{'edge_index': [[0, 1, 1, 2, 2, 3, 3, 4, 4, 5,...</td>\n",
       "    </tr>\n",
       "  </tbody>\n",
       "</table>\n",
       "<p>578 rows × 3 columns</p>\n",
       "</div>"
      ],
      "text/plain": [
       "                                                smiles  Y  \\\n",
       "0                                      CC(=O)Nc1ccccc1  1   \n",
       "1                           CC(=O)Nc1nnc(S(N)(=O)=O)s1  1   \n",
       "2                      Cc1c(N(C)C)c(=N)n(-c2ccccc2)n1C  1   \n",
       "3        COc1ccccc1OCCNC[C@@H](O)c1ccc(C)cc1S(N)(=O)=O  1   \n",
       "4    NS(=O)(=O)c1cc2c(cc1C(F)(F)F)N[C@H](Cc1ccccc1)...  1   \n",
       "..                                                 ... ..   \n",
       "573           CC(=CCO)/C=C/C=C(C)\\C=C\\C1=C(C)CCCC1(C)C  1   \n",
       "574                       CCN(CC)[C@H](C)C(=O)c1ccccc1  1   \n",
       "575  OC[C@@H]1O[C@@H](OC[C@@H]2O[C@@H](O[C@]3(CO)O[...  0   \n",
       "576  COC(=O)C1=C(C#N)NC(C)=C(C(=O)OC(C)C)[C@H]1c1cc...  1   \n",
       "577                          Nc1cc(-c2ccncc2)c[nH]c1=O  1   \n",
       "\n",
       "                                                 graph  \n",
       "0    {'edge_index': [[0, 1, 1, 2, 1, 3, 3, 4, 4, 5,...  \n",
       "1    {'edge_index': [[0, 1, 1, 2, 1, 3, 3, 4, 4, 5,...  \n",
       "2    {'edge_index': [[0, 1, 1, 2, 2, 3, 3, 4, 3, 5,...  \n",
       "3    {'edge_index': [[0, 1, 1, 2, 2, 3, 3, 4, 4, 5,...  \n",
       "4    {'edge_index': [[0, 1, 1, 2, 1, 3, 1, 4, 4, 5,...  \n",
       "..                                                 ...  \n",
       "573  {'edge_index': [[0, 1, 1, 2, 2, 3, 3, 4, 1, 5,...  \n",
       "574  {'edge_index': [[0, 1, 1, 2, 2, 3, 3, 4, 2, 5,...  \n",
       "575  {'edge_index': [[0, 1, 1, 2, 2, 3, 3, 4, 4, 5,...  \n",
       "576  {'edge_index': [[0, 1, 1, 2, 2, 3, 2, 4, 4, 5,...  \n",
       "577  {'edge_index': [[0, 1, 1, 2, 2, 3, 3, 4, 4, 5,...  \n",
       "\n",
       "[578 rows x 3 columns]"
      ]
     },
     "execution_count": 64,
     "metadata": {},
     "output_type": "execute_result"
    }
   ],
   "source": [
    "get_dataset(\"HIA_Hou\", True)[0]"
   ]
  },
  {
   "cell_type": "code",
   "execution_count": null,
   "metadata": {},
   "outputs": [],
   "source": []
  },
  {
   "cell_type": "code",
   "execution_count": 5,
   "metadata": {},
   "outputs": [],
   "source": [
    "from pretrain_gnns.chem.model import GNN_graphpred"
   ]
  },
  {
   "cell_type": "code",
   "execution_count": 11,
   "metadata": {},
   "outputs": [
    {
     "data": {
      "text/plain": [
       "GNN_graphpred(\n",
       "  (gnn): GNN(\n",
       "    (x_embedding1): Embedding(120, 300)\n",
       "    (x_embedding2): Embedding(3, 300)\n",
       "    (gnns): ModuleList(\n",
       "      (0-4): 5 x GINConv()\n",
       "    )\n",
       "    (batch_norms): ModuleList(\n",
       "      (0-4): 5 x BatchNorm1d(300, eps=1e-05, momentum=0.1, affine=True, track_running_stats=True)\n",
       "    )\n",
       "  )\n",
       "  (graph_pred_linear): Identity()\n",
       ")"
      ]
     },
     "execution_count": 11,
     "metadata": {},
     "output_type": "execute_result"
    }
   ],
   "source": [
    "model = GNN_graphpred(5, 300, 1)\n",
    "model.from_pretrained(\"pretrain_gnns/chem/model_gin/supervised_masking.pth\")\n",
    "model.graph_pred_linear = torch.nn.Identity()\n",
    "model"
   ]
  },
  {
   "cell_type": "code",
   "execution_count": 12,
   "metadata": {},
   "outputs": [
    {
     "data": {
      "text/plain": [
       "Data(x=[2, 2], edge_index=[2, 2], edge_attr=[2, 2], id=[1], y=[1])"
      ]
     },
     "execution_count": 12,
     "metadata": {},
     "output_type": "execute_result"
    }
   ],
   "source": [
    "from rdkit import Chem\n",
    "from pretrain_gnns.chem.loader import mol_to_graph_data_obj_simple\n",
    "\n",
    "a = mol_to_graph_data_obj_simple(Chem.MolFromSmiles('CC'))\n",
    "a.id = torch.tensor([0])\n",
    "a.y = torch.tensor([0])\n",
    "a"
   ]
  },
  {
   "cell_type": "code",
   "execution_count": 16,
   "metadata": {},
   "outputs": [
    {
     "data": {
      "text/plain": [
       "tensor([-2.2860e-03, -1.0651e-02, -1.3935e-02, -1.2835e-04, -3.0596e-02,\n",
       "         6.1413e-03, -3.4948e-02,  1.1027e-02, -8.0211e-03,  1.5390e-02,\n",
       "        -4.1179e-02, -2.1974e-02,  4.7206e-02, -1.6192e-02,  1.6484e-02,\n",
       "         2.8944e-03,  9.4745e-03,  2.7458e-02,  8.4795e-03, -3.2276e-02,\n",
       "        -3.4757e-03, -2.4873e-03,  7.0789e-02,  2.8699e-02,  2.9516e-02,\n",
       "        -9.0462e-03, -3.9536e-02, -9.0948e-03,  3.7251e-02, -1.3832e-02,\n",
       "         4.4269e-03,  1.4694e-02, -1.4983e-02, -2.7421e-02,  1.8085e-01,\n",
       "         1.0816e-02, -5.2186e-03,  3.9262e-02,  2.4130e-03,  5.4883e-02,\n",
       "        -2.5037e-02, -1.9981e-02,  3.5048e-03, -2.3913e-03,  2.6480e-02,\n",
       "         2.2530e-02,  2.0608e-02, -1.2867e-02, -2.5237e-02, -4.2520e-02,\n",
       "         1.2864e-03, -1.3701e-02,  1.0453e-02,  9.5401e-03, -2.4706e-02,\n",
       "         3.3749e-02,  6.7488e-03, -4.1012e-02, -4.2344e-02,  5.3390e-02,\n",
       "        -1.6355e-03, -2.1328e-02, -7.5259e-03, -1.2541e-02,  2.6705e-02,\n",
       "         2.7715e-02,  1.2930e-02,  9.7416e-03, -4.6390e-03, -5.5179e-02,\n",
       "         2.0882e-02, -4.0715e-03,  5.3618e-04, -2.6440e-02,  1.5147e-02,\n",
       "         3.0995e-02,  3.4734e-03,  4.9659e-03, -1.0976e-02, -1.3620e-02,\n",
       "        -5.4955e-03, -1.2007e-02, -4.8559e-03, -2.7037e-02,  1.4929e-02,\n",
       "         3.7822e-02, -3.8964e-02,  1.2251e-02, -1.4832e-02, -5.5972e-02,\n",
       "        -1.5496e-02, -2.7260e-02,  7.5790e-03,  9.6164e-03,  3.0427e-02,\n",
       "        -3.6495e-02, -9.1209e-03, -3.7611e-02, -1.8137e-03,  3.3723e-04,\n",
       "        -8.2158e-04, -1.3888e-02,  6.9449e-03,  4.5336e-03, -1.0051e-02,\n",
       "         1.6754e-01,  2.8751e-03,  2.4376e-02, -1.9920e-02,  5.6032e-03,\n",
       "         1.3532e-02, -5.9936e-02,  2.4660e-02, -4.3798e-02,  3.8128e-02,\n",
       "        -1.3833e-02, -4.0815e-03, -1.7949e-02,  4.7777e-03,  2.8264e-03,\n",
       "         9.0788e-03, -1.3899e-02,  1.1151e-02, -2.2050e-03,  7.3197e-03,\n",
       "         6.7381e-03,  1.5454e-02, -8.9924e-03, -2.6901e-03, -3.4185e-04,\n",
       "         6.5407e-03,  5.1222e-04,  7.0830e-03, -3.8538e-02, -2.4447e-02,\n",
       "        -8.8447e-03,  1.4220e-02, -5.0312e-02,  2.8736e-04, -8.0039e-03,\n",
       "        -2.1865e-03,  2.8946e-02, -1.0343e-02,  4.4434e-02,  4.6268e-02,\n",
       "        -3.4490e-02, -1.2078e-02, -1.0572e-02, -1.3827e-02, -6.5708e-03,\n",
       "        -1.5558e-02, -7.7243e-03,  2.2842e-02, -4.5877e-02,  2.9303e-02,\n",
       "         7.7426e-03, -3.1126e-02, -2.9071e-03,  7.4750e-03, -2.1112e-02,\n",
       "         2.8865e-03,  8.1689e-03, -6.4396e-03,  1.2398e-03, -6.7756e-03,\n",
       "        -1.0021e-02, -2.2476e-02, -2.2961e-02, -1.9423e-02, -1.8088e-02,\n",
       "         6.3917e-03,  1.0409e-02,  1.6757e-03,  1.1105e-02, -5.2945e-02,\n",
       "         2.0429e-02,  3.4579e-02, -6.9652e-03, -5.9166e-03,  2.6852e-02,\n",
       "         2.2775e-02,  2.1813e-02, -1.4267e-02, -3.3545e-03,  7.6183e-03,\n",
       "        -2.4751e-02, -5.6558e-03, -2.4845e-02,  2.7884e-02, -9.5826e-03,\n",
       "         2.7103e-02, -1.9412e-03,  3.8736e-02, -1.4639e-02,  2.1295e-02,\n",
       "         1.9202e-02, -2.1495e-02, -1.2409e-02,  1.5742e-02, -8.8489e-03,\n",
       "         2.7258e-02,  2.2293e-02, -4.2656e-02,  1.6524e-02,  5.4674e-03,\n",
       "        -2.7693e-02, -3.1485e-02, -8.2628e-03,  9.2070e-03, -2.5942e-02,\n",
       "         2.2611e-02,  2.1123e-02, -4.2211e-03, -8.4825e-03,  2.7829e-02,\n",
       "         6.5849e-04,  1.9184e-02,  2.0776e-02, -4.6242e-03, -1.4309e-02,\n",
       "         4.1616e-03,  9.5399e-03, -1.6439e-02,  1.9580e-02,  1.3530e-02,\n",
       "        -9.4912e-04, -1.5584e-02, -1.3560e-02, -2.0943e-02, -5.1717e-04,\n",
       "         3.3836e-04, -4.5751e-03, -3.1297e-02,  2.4003e-02,  4.7608e-02,\n",
       "        -3.2034e-02,  1.9042e-02, -1.0770e-03,  1.0507e-03,  8.6142e-03,\n",
       "        -4.8808e-03,  4.0271e-02,  1.8120e-02,  2.9714e-02, -1.1351e-02,\n",
       "        -6.5412e-03, -8.0320e-03, -1.3661e-02, -7.2748e-03, -2.0316e-02,\n",
       "        -1.8465e-02,  3.0698e-02, -2.3024e-02,  1.0335e-02,  1.2659e-02,\n",
       "        -7.2084e-03,  2.3767e-03,  1.5310e-02,  1.5289e-02, -2.3967e-02,\n",
       "         1.3268e-03, -2.7297e-02,  1.8146e-01,  1.9075e-02,  2.4225e-02,\n",
       "        -1.9800e-02, -1.2384e-02, -2.2040e-02,  2.6310e-02, -1.9680e-03,\n",
       "         3.6224e-03, -5.8476e-03,  2.4345e-02, -7.7060e-03,  2.0016e-02,\n",
       "         8.8035e-03, -2.9995e-02,  4.2659e-04, -3.7515e-02, -5.7917e-02,\n",
       "         6.4554e-03, -1.8039e-02,  1.5992e-02,  4.4254e-03,  2.6131e-02,\n",
       "         1.3962e-02,  1.1086e-02,  3.7861e-02, -7.5319e-03, -3.3038e-02,\n",
       "         1.9002e-02, -1.0119e-02,  5.7426e-02,  4.5234e-03,  2.0434e-02,\n",
       "        -1.8376e-02,  1.5046e-02,  2.0443e-02,  4.6382e-03,  4.0899e-03],\n",
       "       grad_fn=<ViewBackward0>)"
      ]
     },
     "execution_count": 16,
     "metadata": {},
     "output_type": "execute_result"
    }
   ],
   "source": [
    "model(a).flatten()"
   ]
  },
  {
   "cell_type": "code",
   "execution_count": null,
   "metadata": {},
   "outputs": [],
   "source": []
  }
 ],
 "metadata": {
  "kernelspec": {
   "display_name": "Python 3",
   "language": "python",
   "name": "python3"
  },
  "language_info": {
   "codemirror_mode": {
    "name": "ipython",
    "version": 3
   },
   "file_extension": ".py",
   "mimetype": "text/x-python",
   "name": "python",
   "nbconvert_exporter": "python",
   "pygments_lexer": "ipython3",
   "version": "3.10.14"
  }
 },
 "nbformat": 4,
 "nbformat_minor": 2
}
